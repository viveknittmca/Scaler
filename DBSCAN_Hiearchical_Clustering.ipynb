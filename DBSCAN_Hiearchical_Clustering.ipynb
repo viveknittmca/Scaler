{
  "nbformat": 4,
  "nbformat_minor": 0,
  "metadata": {
    "colab": {
      "provenance": [],
      "include_colab_link": true
    },
    "kernelspec": {
      "name": "python3",
      "display_name": "Python 3"
    },
    "language_info": {
      "name": "python"
    }
  },
  "cells": [
    {
      "cell_type": "markdown",
      "metadata": {
        "id": "view-in-github",
        "colab_type": "text"
      },
      "source": [
        "<a href=\"https://colab.research.google.com/github/viveknittmca/Scaler/blob/main/DBSCAN_Hiearchical_Clustering.ipynb\" target=\"_parent\"><img src=\"https://colab.research.google.com/assets/colab-badge.svg\" alt=\"Open In Colab\"/></a>"
      ]
    },
    {
      "cell_type": "code",
      "execution_count": null,
      "metadata": {
        "id": "veo0FsAoUCld"
      },
      "outputs": [],
      "source": [
        "from sklearn.cluster import DBSCAN\n",
        "from sklearn.preprocessing import StandardScaler\n",
        "import numpy as np\n",
        "import pandas as pd\n",
        "import matplotlib.pyplot as plt\n"
      ]
    },
    {
      "cell_type": "markdown",
      "source": [
        "# Clustering with outliers"
      ],
      "metadata": {
        "id": "9kVlYVqBXRIt"
      }
    },
    {
      "cell_type": "markdown",
      "source": [
        "## Dataset"
      ],
      "metadata": {
        "id": "EnTOPragUXM8"
      }
    },
    {
      "cell_type": "code",
      "source": [
        "id = \"1dr93lHQUchIii1lwsGoS40VcUj-rW4H1\"\n",
        "print(\"https://drive.google.com/uc?export=download&id=\" + id)"
      ],
      "metadata": {
        "colab": {
          "base_uri": "https://localhost:8080/"
        },
        "id": "B8qpfThQUSHj",
        "outputId": "fa1c9968-503a-4882-b643-40cf7ffbe1ec"
      },
      "execution_count": null,
      "outputs": [
        {
          "output_type": "stream",
          "name": "stdout",
          "text": [
            "https://drive.google.com/uc?export=download&id=1dr93lHQUchIii1lwsGoS40VcUj-rW4H1\n"
          ]
        }
      ]
    },
    {
      "cell_type": "code",
      "source": [
        "!wget \"https://drive.google.com/uc?export=download&id=1dr93lHQUchIii1lwsGoS40VcUj-rW4H1\" -O wholesaledata.csv"
      ],
      "metadata": {
        "colab": {
          "base_uri": "https://localhost:8080/"
        },
        "id": "4sBMpGNUUZ9O",
        "outputId": "386d5ea7-39c8-4a9e-ebd7-9577ee51fb0b"
      },
      "execution_count": null,
      "outputs": [
        {
          "output_type": "stream",
          "name": "stdout",
          "text": [
            "--2022-06-08 12:37:53--  https://drive.google.com/uc?export=download&id=1dr93lHQUchIii1lwsGoS40VcUj-rW4H1\n",
            "Resolving drive.google.com (drive.google.com)... 172.217.204.101, 172.217.204.138, 172.217.204.102, ...\n",
            "Connecting to drive.google.com (drive.google.com)|172.217.204.101|:443... connected.\n",
            "HTTP request sent, awaiting response... 303 See Other\n",
            "Location: https://doc-04-ag-docs.googleusercontent.com/docs/securesc/ha0ro937gcuc7l7deffksulhg5h7mbp1/kcah3v1ce9nue0jluupdahodsr1quj77/1654691850000/10804243441129704195/*/1dr93lHQUchIii1lwsGoS40VcUj-rW4H1?e=download [following]\n",
            "Warning: wildcards not supported in HTTP.\n",
            "--2022-06-08 12:37:54--  https://doc-04-ag-docs.googleusercontent.com/docs/securesc/ha0ro937gcuc7l7deffksulhg5h7mbp1/kcah3v1ce9nue0jluupdahodsr1quj77/1654691850000/10804243441129704195/*/1dr93lHQUchIii1lwsGoS40VcUj-rW4H1?e=download\n",
            "Resolving doc-04-ag-docs.googleusercontent.com (doc-04-ag-docs.googleusercontent.com)... 142.250.97.132, 2607:f8b0:400c:c18::84\n",
            "Connecting to doc-04-ag-docs.googleusercontent.com (doc-04-ag-docs.googleusercontent.com)|142.250.97.132|:443... connected.\n",
            "HTTP request sent, awaiting response... 200 OK\n",
            "Length: 15021 (15K) [text/csv]\n",
            "Saving to: ‘wholesaledata.csv’\n",
            "\n",
            "wholesaledata.csv   100%[===================>]  14.67K  --.-KB/s    in 0s      \n",
            "\n",
            "2022-06-08 12:37:54 (96.1 MB/s) - ‘wholesaledata.csv’ saved [15021/15021]\n",
            "\n"
          ]
        }
      ]
    },
    {
      "cell_type": "code",
      "source": [
        "df = pd.read_csv('./wholesaledata.csv')\n",
        "df.info()"
      ],
      "metadata": {
        "colab": {
          "base_uri": "https://localhost:8080/"
        },
        "id": "yjgnIhgMUlRE",
        "outputId": "d30aa84e-4b56-4cbb-eb4a-f5da60976719"
      },
      "execution_count": null,
      "outputs": [
        {
          "output_type": "stream",
          "name": "stdout",
          "text": [
            "<class 'pandas.core.frame.DataFrame'>\n",
            "RangeIndex: 440 entries, 0 to 439\n",
            "Data columns (total 8 columns):\n",
            " #   Column            Non-Null Count  Dtype\n",
            "---  ------            --------------  -----\n",
            " 0   Channel           440 non-null    int64\n",
            " 1   Region            440 non-null    int64\n",
            " 2   Fresh             440 non-null    int64\n",
            " 3   Milk              440 non-null    int64\n",
            " 4   Grocery           440 non-null    int64\n",
            " 5   Frozen            440 non-null    int64\n",
            " 6   Detergents_Paper  440 non-null    int64\n",
            " 7   Delicassen        440 non-null    int64\n",
            "dtypes: int64(8)\n",
            "memory usage: 27.6 KB\n"
          ]
        }
      ]
    },
    {
      "cell_type": "code",
      "source": [
        "df.head()"
      ],
      "metadata": {
        "colab": {
          "base_uri": "https://localhost:8080/",
          "height": 206
        },
        "id": "A8i3zwcFUu8s",
        "outputId": "573eb9be-7630-4acc-8be7-74a10b55d3f9"
      },
      "execution_count": null,
      "outputs": [
        {
          "output_type": "execute_result",
          "data": {
            "text/plain": [
              "   Channel  Region  Fresh  Milk  Grocery  Frozen  Detergents_Paper  Delicassen\n",
              "0        2       3  12669  9656     7561     214              2674        1338\n",
              "1        2       3   7057  9810     9568    1762              3293        1776\n",
              "2        2       3   6353  8808     7684    2405              3516        7844\n",
              "3        1       3  13265  1196     4221    6404               507        1788\n",
              "4        2       3  22615  5410     7198    3915              1777        5185"
            ],
            "text/html": [
              "\n",
              "  <div id=\"df-86113e24-159b-42be-8d12-1b1a0cb01d5b\">\n",
              "    <div class=\"colab-df-container\">\n",
              "      <div>\n",
              "<style scoped>\n",
              "    .dataframe tbody tr th:only-of-type {\n",
              "        vertical-align: middle;\n",
              "    }\n",
              "\n",
              "    .dataframe tbody tr th {\n",
              "        vertical-align: top;\n",
              "    }\n",
              "\n",
              "    .dataframe thead th {\n",
              "        text-align: right;\n",
              "    }\n",
              "</style>\n",
              "<table border=\"1\" class=\"dataframe\">\n",
              "  <thead>\n",
              "    <tr style=\"text-align: right;\">\n",
              "      <th></th>\n",
              "      <th>Channel</th>\n",
              "      <th>Region</th>\n",
              "      <th>Fresh</th>\n",
              "      <th>Milk</th>\n",
              "      <th>Grocery</th>\n",
              "      <th>Frozen</th>\n",
              "      <th>Detergents_Paper</th>\n",
              "      <th>Delicassen</th>\n",
              "    </tr>\n",
              "  </thead>\n",
              "  <tbody>\n",
              "    <tr>\n",
              "      <th>0</th>\n",
              "      <td>2</td>\n",
              "      <td>3</td>\n",
              "      <td>12669</td>\n",
              "      <td>9656</td>\n",
              "      <td>7561</td>\n",
              "      <td>214</td>\n",
              "      <td>2674</td>\n",
              "      <td>1338</td>\n",
              "    </tr>\n",
              "    <tr>\n",
              "      <th>1</th>\n",
              "      <td>2</td>\n",
              "      <td>3</td>\n",
              "      <td>7057</td>\n",
              "      <td>9810</td>\n",
              "      <td>9568</td>\n",
              "      <td>1762</td>\n",
              "      <td>3293</td>\n",
              "      <td>1776</td>\n",
              "    </tr>\n",
              "    <tr>\n",
              "      <th>2</th>\n",
              "      <td>2</td>\n",
              "      <td>3</td>\n",
              "      <td>6353</td>\n",
              "      <td>8808</td>\n",
              "      <td>7684</td>\n",
              "      <td>2405</td>\n",
              "      <td>3516</td>\n",
              "      <td>7844</td>\n",
              "    </tr>\n",
              "    <tr>\n",
              "      <th>3</th>\n",
              "      <td>1</td>\n",
              "      <td>3</td>\n",
              "      <td>13265</td>\n",
              "      <td>1196</td>\n",
              "      <td>4221</td>\n",
              "      <td>6404</td>\n",
              "      <td>507</td>\n",
              "      <td>1788</td>\n",
              "    </tr>\n",
              "    <tr>\n",
              "      <th>4</th>\n",
              "      <td>2</td>\n",
              "      <td>3</td>\n",
              "      <td>22615</td>\n",
              "      <td>5410</td>\n",
              "      <td>7198</td>\n",
              "      <td>3915</td>\n",
              "      <td>1777</td>\n",
              "      <td>5185</td>\n",
              "    </tr>\n",
              "  </tbody>\n",
              "</table>\n",
              "</div>\n",
              "      <button class=\"colab-df-convert\" onclick=\"convertToInteractive('df-86113e24-159b-42be-8d12-1b1a0cb01d5b')\"\n",
              "              title=\"Convert this dataframe to an interactive table.\"\n",
              "              style=\"display:none;\">\n",
              "        \n",
              "  <svg xmlns=\"http://www.w3.org/2000/svg\" height=\"24px\"viewBox=\"0 0 24 24\"\n",
              "       width=\"24px\">\n",
              "    <path d=\"M0 0h24v24H0V0z\" fill=\"none\"/>\n",
              "    <path d=\"M18.56 5.44l.94 2.06.94-2.06 2.06-.94-2.06-.94-.94-2.06-.94 2.06-2.06.94zm-11 1L8.5 8.5l.94-2.06 2.06-.94-2.06-.94L8.5 2.5l-.94 2.06-2.06.94zm10 10l.94 2.06.94-2.06 2.06-.94-2.06-.94-.94-2.06-.94 2.06-2.06.94z\"/><path d=\"M17.41 7.96l-1.37-1.37c-.4-.4-.92-.59-1.43-.59-.52 0-1.04.2-1.43.59L10.3 9.45l-7.72 7.72c-.78.78-.78 2.05 0 2.83L4 21.41c.39.39.9.59 1.41.59.51 0 1.02-.2 1.41-.59l7.78-7.78 2.81-2.81c.8-.78.8-2.07 0-2.86zM5.41 20L4 18.59l7.72-7.72 1.47 1.35L5.41 20z\"/>\n",
              "  </svg>\n",
              "      </button>\n",
              "      \n",
              "  <style>\n",
              "    .colab-df-container {\n",
              "      display:flex;\n",
              "      flex-wrap:wrap;\n",
              "      gap: 12px;\n",
              "    }\n",
              "\n",
              "    .colab-df-convert {\n",
              "      background-color: #E8F0FE;\n",
              "      border: none;\n",
              "      border-radius: 50%;\n",
              "      cursor: pointer;\n",
              "      display: none;\n",
              "      fill: #1967D2;\n",
              "      height: 32px;\n",
              "      padding: 0 0 0 0;\n",
              "      width: 32px;\n",
              "    }\n",
              "\n",
              "    .colab-df-convert:hover {\n",
              "      background-color: #E2EBFA;\n",
              "      box-shadow: 0px 1px 2px rgba(60, 64, 67, 0.3), 0px 1px 3px 1px rgba(60, 64, 67, 0.15);\n",
              "      fill: #174EA6;\n",
              "    }\n",
              "\n",
              "    [theme=dark] .colab-df-convert {\n",
              "      background-color: #3B4455;\n",
              "      fill: #D2E3FC;\n",
              "    }\n",
              "\n",
              "    [theme=dark] .colab-df-convert:hover {\n",
              "      background-color: #434B5C;\n",
              "      box-shadow: 0px 1px 3px 1px rgba(0, 0, 0, 0.15);\n",
              "      filter: drop-shadow(0px 1px 2px rgba(0, 0, 0, 0.3));\n",
              "      fill: #FFFFFF;\n",
              "    }\n",
              "  </style>\n",
              "\n",
              "      <script>\n",
              "        const buttonEl =\n",
              "          document.querySelector('#df-86113e24-159b-42be-8d12-1b1a0cb01d5b button.colab-df-convert');\n",
              "        buttonEl.style.display =\n",
              "          google.colab.kernel.accessAllowed ? 'block' : 'none';\n",
              "\n",
              "        async function convertToInteractive(key) {\n",
              "          const element = document.querySelector('#df-86113e24-159b-42be-8d12-1b1a0cb01d5b');\n",
              "          const dataTable =\n",
              "            await google.colab.kernel.invokeFunction('convertToInteractive',\n",
              "                                                     [key], {});\n",
              "          if (!dataTable) return;\n",
              "\n",
              "          const docLinkHtml = 'Like what you see? Visit the ' +\n",
              "            '<a target=\"_blank\" href=https://colab.research.google.com/notebooks/data_table.ipynb>data table notebook</a>'\n",
              "            + ' to learn more about interactive tables.';\n",
              "          element.innerHTML = '';\n",
              "          dataTable['output_type'] = 'display_data';\n",
              "          await google.colab.output.renderOutput(dataTable, element);\n",
              "          const docLink = document.createElement('div');\n",
              "          docLink.innerHTML = docLinkHtml;\n",
              "          element.appendChild(docLink);\n",
              "        }\n",
              "      </script>\n",
              "    </div>\n",
              "  </div>\n",
              "  "
            ]
          },
          "metadata": {},
          "execution_count": 9
        }
      ]
    },
    {
      "cell_type": "code",
      "source": [
        "# Dropping categorical variables for simplicity\n",
        "\n",
        "df.drop([\"Channel\", \"Region\"], axis = 1, inplace = True)"
      ],
      "metadata": {
        "id": "1MiMExLQU8OR"
      },
      "execution_count": null,
      "outputs": []
    },
    {
      "cell_type": "markdown",
      "source": [
        "## Simple Visualization"
      ],
      "metadata": {
        "id": "5fFnDbGEVEuN"
      }
    },
    {
      "cell_type": "code",
      "source": [
        "# Let's plot two features data now\n",
        "x = df['Grocery']\n",
        "y = df['Milk']\n",
        "\n",
        "plt.scatter(x,y)\n",
        "plt.xlabel(\"Groceries\")\n",
        "plt.ylabel(\"Milk\")\n",
        "plt.show()"
      ],
      "metadata": {
        "colab": {
          "base_uri": "https://localhost:8080/",
          "height": 279
        },
        "id": "JsF3APAPVH7-",
        "outputId": "0f00246f-cc4e-4249-cc18-de217d83334d"
      },
      "execution_count": null,
      "outputs": [
        {
          "output_type": "display_data",
          "data": {
            "text/plain": [
              "<Figure size 432x288 with 1 Axes>"
            ],
            "image/png": "[encoded data removed]"
          },
          "metadata": {
            "needs_background": "light"
          }
        }
      ]
    },
    {
      "cell_type": "code",
      "source": [
        "## Outliers even in 2 features\n",
        "## DBSCAN preferred over KMeans"
      ],
      "metadata": {
        "id": "JkVpxCgSVPYK"
      },
      "execution_count": null,
      "outputs": []
    },
    {
      "cell_type": "markdown",
      "source": [
        "##DBSCAN"
      ],
      "metadata": {
        "id": "7BQNvrhbWP2P"
      }
    },
    {
      "cell_type": "code",
      "source": [
        "df = df[['Grocery', 'Milk']]\n",
        "std_scaler = StandardScaler().fit(df)\n",
        "std_df = std_scaler.transform(df)\n"
      ],
      "metadata": {
        "id": "MqwWURbGViaL"
      },
      "execution_count": null,
      "outputs": []
    },
    {
      "cell_type": "code",
      "source": [
        "# https://scikit-learn.org/stable/modules/generated/sklearn.cluster.DBSCAN.html\n",
        "dbsc = DBSCAN(eps = .5, min_samples = 15).fit(std_df)"
      ],
      "metadata": {
        "id": "3hZX6T9hVpMh"
      },
      "execution_count": null,
      "outputs": []
    },
    {
      "cell_type": "code",
      "source": [
        "#\"Noisy samples are given the label -1.\" --> Reference\n",
        "labels = dbsc.labels_\n",
        "labels"
      ],
      "metadata": {
        "colab": {
          "base_uri": "https://localhost:8080/"
        },
        "id": "jRmeqQ3IWNVo",
        "outputId": "3cee4880-83e0-499e-c6d5-d9437e184a44"
      },
      "execution_count": null,
      "outputs": [
        {
          "output_type": "execute_result",
          "data": {
            "text/plain": [
              "array([ 0,  0,  0,  0,  0,  0,  0,  0,  0,  0,  0,  0,  0,  0,  0,  0,  0,\n",
              "        0,  0,  0,  0,  0,  0, -1,  0,  0,  0,  0, -1,  0,  0,  0,  0,  0,\n",
              "        0,  0,  0,  0,  0,  0,  0,  0,  0,  0,  0, -1,  0, -1,  0, -1,  0,\n",
              "        0,  0,  0,  0,  0, -1,  0,  0,  0,  0, -1,  0,  0,  0, -1,  0,  0,\n",
              "        0,  0,  0, -1,  0,  0,  0,  0,  0, -1,  0,  0,  0,  0,  0,  0,  0,\n",
              "       -1, -1,  0,  0,  0,  0,  0, -1,  0,  0,  0,  0,  0,  0,  0,  0,  0,\n",
              "        0,  0,  0,  0,  0,  0,  0, -1,  0,  0,  0,  0,  0,  0,  0,  0,  0,\n",
              "        0,  0,  0,  0,  0,  0,  0,  0,  0,  0,  0,  0,  0,  0,  0,  0,  0,\n",
              "        0,  0,  0,  0,  0,  0,  0,  0,  0, -1,  0,  0,  0,  0,  0,  0,  0,\n",
              "        0,  0,  0,  0,  0,  0,  0,  0,  0,  0, -1,  0,  0,  0,  0,  0,  0,\n",
              "        0, -1,  0,  0,  0,  0,  0,  0,  0,  0,  0, -1,  0, -1,  0,  0,  0,\n",
              "        0,  0,  0,  0,  0,  0,  0,  0,  0,  0,  0,  0,  0,  0,  0,  0,  0,\n",
              "        0,  0,  0,  0,  0,  0,  0, -1,  0,  0,  0,  0, -1,  0,  0,  0,  0,\n",
              "        0,  0,  0,  0,  0,  0,  0,  0,  0,  0,  0,  0,  0,  0,  0,  0,  0,\n",
              "        0,  0,  0,  0,  0,  0,  0,  0,  0,  0,  0,  0,  0, -1,  0,  0, -1,\n",
              "        0,  0,  0,  0,  0,  0,  0,  0,  0,  0, -1,  0,  0,  0,  0,  0,  0,\n",
              "        0,  0,  0,  0,  0,  0,  0,  0,  0,  0,  0,  0,  0,  0,  0,  0,  0,\n",
              "        0,  0,  0,  0,  0,  0,  0,  0,  0,  0,  0,  0,  0,  0,  0, -1,  0,\n",
              "        0,  0,  0, -1,  0,  0,  0,  0,  0,  0,  0,  0,  0, -1,  0,  0,  0,\n",
              "        0,  0, -1,  0,  0,  0,  0,  0, -1,  0, -1,  0,  0,  0,  0,  0,  0,\n",
              "        0,  0,  0, -1,  0,  0,  0,  0,  0,  0,  0,  0,  0,  0,  0,  0,  0,\n",
              "       -1, -1,  0,  0,  0,  0,  0,  0,  0,  0,  0,  0,  0,  0,  0,  0,  0,\n",
              "        0,  0,  0,  0,  0,  0,  0,  0,  0,  0, -1,  0,  0,  0,  0,  0,  0,\n",
              "        0,  0,  0,  0,  0,  0,  0,  0,  0,  0,  0,  0,  0,  0,  0,  0,  0,\n",
              "        0,  0,  0,  0,  0,  0,  0,  0,  0,  0,  0,  0,  0,  0,  0,  0,  0,\n",
              "        0,  0, -1,  0,  0,  0,  0,  0,  0,  0,  0,  0, -1,  0,  0])"
            ]
          },
          "metadata": {},
          "execution_count": 14
        }
      ]
    },
    {
      "cell_type": "code",
      "source": [
        "out_df = df.copy()\n",
        "out_df['label'] = dbsc.labels_"
      ],
      "metadata": {
        "id": "YVaCGwOnWrdr"
      },
      "execution_count": null,
      "outputs": []
    },
    {
      "cell_type": "code",
      "source": [
        "out_df['label'].value_counts()"
      ],
      "metadata": {
        "colab": {
          "base_uri": "https://localhost:8080/"
        },
        "id": "395tXq3XW1J1",
        "outputId": "9adfca11-aa36-477d-eeb0-e4fffd59685c"
      },
      "execution_count": null,
      "outputs": [
        {
          "output_type": "execute_result",
          "data": {
            "text/plain": [
              " 0    404\n",
              "-1     36\n",
              "Name: label, dtype: int64"
            ]
          },
          "metadata": {},
          "execution_count": 17
        }
      ]
    },
    {
      "cell_type": "code",
      "source": [
        "plt.scatter(out_df['Grocery'], out_df['Milk'], c=out_df['label'])\n"
      ],
      "metadata": {
        "colab": {
          "base_uri": "https://localhost:8080/",
          "height": 282
        },
        "id": "Xp1MBgYUW7SM",
        "outputId": "02bb3b71-3caf-4775-d6f6-1f9df1a61d18"
      },
      "execution_count": null,
      "outputs": [
        {
          "output_type": "execute_result",
          "data": {
            "text/plain": [
              "<matplotlib.collections.PathCollection at 0x7f36beee4f50>"
            ]
          },
          "metadata": {},
          "execution_count": 18
        },
        {
          "output_type": "display_data",
          "data": {
            "text/plain": [
              "<Figure size 432x288 with 1 Axes>"
            ],
            "image/png": "[encoded data removed]"
          },
          "metadata": {
            "needs_background": "light"
          }
        }
      ]
    },
    {
      "cell_type": "markdown",
      "source": [
        "##KMeans"
      ],
      "metadata": {
        "id": "CDPgNHG9XB9d"
      }
    },
    {
      "cell_type": "code",
      "source": [
        "from sklearn.cluster import KMeans\n",
        "\n",
        "k = 2 ## arbitrary value\n",
        "kmeans = KMeans(n_clusters=k)\n",
        "y_pred = kmeans.fit_predict(std_df)\n",
        "\n",
        "clusters = df.copy()\n",
        "clusters['label'] = kmeans.labels_\n",
        "clusters"
      ],
      "metadata": {
        "colab": {
          "base_uri": "https://localhost:8080/",
          "height": 424
        },
        "id": "YYwUd0ysXEA_",
        "outputId": "8ba27b03-3259-4f2c-a5d3-f961ff33fa4f"
      },
      "execution_count": null,
      "outputs": [
        {
          "output_type": "execute_result",
          "data": {
            "text/plain": [
              "     Grocery   Milk  label\n",
              "0       7561   9656      1\n",
              "1       9568   9810      1\n",
              "2       7684   8808      1\n",
              "3       4221   1196      1\n",
              "4       7198   5410      1\n",
              "..       ...    ...    ...\n",
              "435    16027  12051      1\n",
              "436      764   1431      1\n",
              "437    30243  15488      0\n",
              "438     2232   1981      1\n",
              "439     2510   1698      1\n",
              "\n",
              "[440 rows x 3 columns]"
            ],
            "text/html": [
              "\n",
              "  <div id=\"df-6e0ec65b-da0d-4e6b-b558-2b1527d0a92e\">\n",
              "    <div class=\"colab-df-container\">\n",
              "      <div>\n",
              "<style scoped>\n",
              "    .dataframe tbody tr th:only-of-type {\n",
              "        vertical-align: middle;\n",
              "    }\n",
              "\n",
              "    .dataframe tbody tr th {\n",
              "        vertical-align: top;\n",
              "    }\n",
              "\n",
              "    .dataframe thead th {\n",
              "        text-align: right;\n",
              "    }\n",
              "</style>\n",
              "<table border=\"1\" class=\"dataframe\">\n",
              "  <thead>\n",
              "    <tr style=\"text-align: right;\">\n",
              "      <th></th>\n",
              "      <th>Grocery</th>\n",
              "      <th>Milk</th>\n",
              "      <th>label</th>\n",
              "    </tr>\n",
              "  </thead>\n",
              "  <tbody>\n",
              "    <tr>\n",
              "      <th>0</th>\n",
              "      <td>7561</td>\n",
              "      <td>9656</td>\n",
              "      <td>1</td>\n",
              "    </tr>\n",
              "    <tr>\n",
              "      <th>1</th>\n",
              "      <td>9568</td>\n",
              "      <td>9810</td>\n",
              "      <td>1</td>\n",
              "    </tr>\n",
              "    <tr>\n",
              "      <th>2</th>\n",
              "      <td>7684</td>\n",
              "      <td>8808</td>\n",
              "      <td>1</td>\n",
              "    </tr>\n",
              "    <tr>\n",
              "      <th>3</th>\n",
              "      <td>4221</td>\n",
              "      <td>1196</td>\n",
              "      <td>1</td>\n",
              "    </tr>\n",
              "    <tr>\n",
              "      <th>4</th>\n",
              "      <td>7198</td>\n",
              "      <td>5410</td>\n",
              "      <td>1</td>\n",
              "    </tr>\n",
              "    <tr>\n",
              "      <th>...</th>\n",
              "      <td>...</td>\n",
              "      <td>...</td>\n",
              "      <td>...</td>\n",
              "    </tr>\n",
              "    <tr>\n",
              "      <th>435</th>\n",
              "      <td>16027</td>\n",
              "      <td>12051</td>\n",
              "      <td>1</td>\n",
              "    </tr>\n",
              "    <tr>\n",
              "      <th>436</th>\n",
              "      <td>764</td>\n",
              "      <td>1431</td>\n",
              "      <td>1</td>\n",
              "    </tr>\n",
              "    <tr>\n",
              "      <th>437</th>\n",
              "      <td>30243</td>\n",
              "      <td>15488</td>\n",
              "      <td>0</td>\n",
              "    </tr>\n",
              "    <tr>\n",
              "      <th>438</th>\n",
              "      <td>2232</td>\n",
              "      <td>1981</td>\n",
              "      <td>1</td>\n",
              "    </tr>\n",
              "    <tr>\n",
              "      <th>439</th>\n",
              "      <td>2510</td>\n",
              "      <td>1698</td>\n",
              "      <td>1</td>\n",
              "    </tr>\n",
              "  </tbody>\n",
              "</table>\n",
              "<p>440 rows × 3 columns</p>\n",
              "</div>\n",
              "      <button class=\"colab-df-convert\" onclick=\"convertToInteractive('df-6e0ec65b-da0d-4e6b-b558-2b1527d0a92e')\"\n",
              "              title=\"Convert this dataframe to an interactive table.\"\n",
              "              style=\"display:none;\">\n",
              "        \n",
              "  <svg xmlns=\"http://www.w3.org/2000/svg\" height=\"24px\"viewBox=\"0 0 24 24\"\n",
              "       width=\"24px\">\n",
              "    <path d=\"M0 0h24v24H0V0z\" fill=\"none\"/>\n",
              "    <path d=\"M18.56 5.44l.94 2.06.94-2.06 2.06-.94-2.06-.94-.94-2.06-.94 2.06-2.06.94zm-11 1L8.5 8.5l.94-2.06 2.06-.94-2.06-.94L8.5 2.5l-.94 2.06-2.06.94zm10 10l.94 2.06.94-2.06 2.06-.94-2.06-.94-.94-2.06-.94 2.06-2.06.94z\"/><path d=\"M17.41 7.96l-1.37-1.37c-.4-.4-.92-.59-1.43-.59-.52 0-1.04.2-1.43.59L10.3 9.45l-7.72 7.72c-.78.78-.78 2.05 0 2.83L4 21.41c.39.39.9.59 1.41.59.51 0 1.02-.2 1.41-.59l7.78-7.78 2.81-2.81c.8-.78.8-2.07 0-2.86zM5.41 20L4 18.59l7.72-7.72 1.47 1.35L5.41 20z\"/>\n",
              "  </svg>\n",
              "      </button>\n",
              "      \n",
              "  <style>\n",
              "    .colab-df-container {\n",
              "      display:flex;\n",
              "      flex-wrap:wrap;\n",
              "      gap: 12px;\n",
              "    }\n",
              "\n",
              "    .colab-df-convert {\n",
              "      background-color: #E8F0FE;\n",
              "      border: none;\n",
              "      border-radius: 50%;\n",
              "      cursor: pointer;\n",
              "      display: none;\n",
              "      fill: #1967D2;\n",
              "      height: 32px;\n",
              "      padding: 0 0 0 0;\n",
              "      width: 32px;\n",
              "    }\n",
              "\n",
              "    .colab-df-convert:hover {\n",
              "      background-color: #E2EBFA;\n",
              "      box-shadow: 0px 1px 2px rgba(60, 64, 67, 0.3), 0px 1px 3px 1px rgba(60, 64, 67, 0.15);\n",
              "      fill: #174EA6;\n",
              "    }\n",
              "\n",
              "    [theme=dark] .colab-df-convert {\n",
              "      background-color: #3B4455;\n",
              "      fill: #D2E3FC;\n",
              "    }\n",
              "\n",
              "    [theme=dark] .colab-df-convert:hover {\n",
              "      background-color: #434B5C;\n",
              "      box-shadow: 0px 1px 3px 1px rgba(0, 0, 0, 0.15);\n",
              "      filter: drop-shadow(0px 1px 2px rgba(0, 0, 0, 0.3));\n",
              "      fill: #FFFFFF;\n",
              "    }\n",
              "  </style>\n",
              "\n",
              "      <script>\n",
              "        const buttonEl =\n",
              "          document.querySelector('#df-6e0ec65b-da0d-4e6b-b558-2b1527d0a92e button.colab-df-convert');\n",
              "        buttonEl.style.display =\n",
              "          google.colab.kernel.accessAllowed ? 'block' : 'none';\n",
              "\n",
              "        async function convertToInteractive(key) {\n",
              "          const element = document.querySelector('#df-6e0ec65b-da0d-4e6b-b558-2b1527d0a92e');\n",
              "          const dataTable =\n",
              "            await google.colab.kernel.invokeFunction('convertToInteractive',\n",
              "                                                     [key], {});\n",
              "          if (!dataTable) return;\n",
              "\n",
              "          const docLinkHtml = 'Like what you see? Visit the ' +\n",
              "            '<a target=\"_blank\" href=https://colab.research.google.com/notebooks/data_table.ipynb>data table notebook</a>'\n",
              "            + ' to learn more about interactive tables.';\n",
              "          element.innerHTML = '';\n",
              "          dataTable['output_type'] = 'display_data';\n",
              "          await google.colab.output.renderOutput(dataTable, element);\n",
              "          const docLink = document.createElement('div');\n",
              "          docLink.innerHTML = docLinkHtml;\n",
              "          element.appendChild(docLink);\n",
              "        }\n",
              "      </script>\n",
              "    </div>\n",
              "  </div>\n",
              "  "
            ]
          },
          "metadata": {},
          "execution_count": 19
        }
      ]
    },
    {
      "cell_type": "code",
      "source": [
        "plt.scatter(clusters['Grocery'], clusters['Milk'], c=clusters['label'])\n"
      ],
      "metadata": {
        "colab": {
          "base_uri": "https://localhost:8080/",
          "height": 282
        },
        "id": "g7FyLs9aXJ8J",
        "outputId": "68d95c8d-ff9f-4cc1-f749-c3d76cace0aa"
      },
      "execution_count": null,
      "outputs": [
        {
          "output_type": "execute_result",
          "data": {
            "text/plain": [
              "<matplotlib.collections.PathCollection at 0x7f36be948fd0>"
            ]
          },
          "metadata": {},
          "execution_count": 20
        },
        {
          "output_type": "display_data",
          "data": {
            "text/plain": [
              "<Figure size 432x288 with 1 Axes>"
            ],
            "image/png": "[encoded data removed]"
          },
          "metadata": {
            "needs_background": "light"
          }
        }
      ]
    },
    {
      "cell_type": "markdown",
      "source": [],
      "metadata": {
        "id": "uBwLh3cQVOLi"
      }
    },
    {
      "cell_type": "markdown",
      "source": [
        "# Finance Data clustering"
      ],
      "metadata": {
        "id": "fWwUqeC-XW4e"
      }
    },
    {
      "cell_type": "markdown",
      "source": [
        "## Dataset"
      ],
      "metadata": {
        "id": "JzXkgwvuXhS4"
      }
    },
    {
      "cell_type": "code",
      "source": [
        "import pandas as pd\n",
        "import numpy as np\n",
        "from matplotlib import pyplot as plt\n",
        "import seaborn as sns\n",
        "from sklearn.cluster import KMeans"
      ],
      "metadata": {
        "id": "4aYChIhvXb1A"
      },
      "execution_count": null,
      "outputs": []
    },
    {
      "cell_type": "code",
      "source": [
        "id = \"1giO5bbp3l0INVvTQIGJ7s_Ai5_TWNuIb\"\n",
        "print(\"https://drive.google.com/uc?export=download&id=\" + id)"
      ],
      "metadata": {
        "colab": {
          "base_uri": "https://localhost:8080/"
        },
        "id": "uxm4j2G6XtJe",
        "outputId": "17b897b1-e73a-444d-9823-215ae457610e"
      },
      "execution_count": null,
      "outputs": [
        {
          "output_type": "stream",
          "name": "stdout",
          "text": [
            "https://drive.google.com/uc?export=download&id=1giO5bbp3l0INVvTQIGJ7s_Ai5_TWNuIb\n"
          ]
        }
      ]
    },
    {
      "cell_type": "code",
      "source": [
        "!wget \"https://drive.google.com/uc?export=download&id=1giO5bbp3l0INVvTQIGJ7s_Ai5_TWNuIb\" -O ind_nifty50list.csv"
      ],
      "metadata": {
        "colab": {
          "base_uri": "https://localhost:8080/"
        },
        "id": "pIVVx30VXyfE",
        "outputId": "edf5e08e-aea9-4445-fa5a-2829a7f0b856"
      },
      "execution_count": null,
      "outputs": [
        {
          "output_type": "stream",
          "name": "stdout",
          "text": [
            "--2022-06-08 16:12:43--  https://drive.google.com/uc?export=download&id=1giO5bbp3l0INVvTQIGJ7s_Ai5_TWNuIb\n",
            "Resolving drive.google.com (drive.google.com)... 142.250.101.101, 142.250.101.113, 142.250.101.100, ...\n",
            "Connecting to drive.google.com (drive.google.com)|142.250.101.101|:443... connected.\n",
            "HTTP request sent, awaiting response... 303 See Other\n",
            "Location: https://doc-08-64-docs.googleusercontent.com/docs/securesc/ha0ro937gcuc7l7deffksulhg5h7mbp1/1r8ni5t7flekivdeujmj3ptkdbcc2dki/1654704750000/10306167880925931714/*/1giO5bbp3l0INVvTQIGJ7s_Ai5_TWNuIb?e=download [following]\n",
            "Warning: wildcards not supported in HTTP.\n",
            "--2022-06-08 16:12:44--  https://doc-08-64-docs.googleusercontent.com/docs/securesc/ha0ro937gcuc7l7deffksulhg5h7mbp1/1r8ni5t7flekivdeujmj3ptkdbcc2dki/1654704750000/10306167880925931714/*/1giO5bbp3l0INVvTQIGJ7s_Ai5_TWNuIb?e=download\n",
            "Resolving doc-08-64-docs.googleusercontent.com (doc-08-64-docs.googleusercontent.com)... 142.250.141.132, 2607:f8b0:4023:c0b::84\n",
            "Connecting to doc-08-64-docs.googleusercontent.com (doc-08-64-docs.googleusercontent.com)|142.250.141.132|:443... connected.\n",
            "HTTP request sent, awaiting response... 200 OK\n",
            "Length: 3053 (3.0K) [text/csv]\n",
            "Saving to: ‘ind_nifty50list.csv’\n",
            "\n",
            "ind_nifty50list.csv 100%[===================>]   2.98K  --.-KB/s    in 0s      \n",
            "\n",
            "2022-06-08 16:12:44 (152 MB/s) - ‘ind_nifty50list.csv’ saved [3053/3053]\n",
            "\n"
          ]
        }
      ]
    },
    {
      "cell_type": "code",
      "source": [
        "stocks_df = pd.read_csv(\"./ind_nifty50list.csv\")\n",
        "list_of_symobols = list(stocks_df['Symbol'])\n",
        "stocks_df.head()"
      ],
      "metadata": {
        "colab": {
          "base_uri": "https://localhost:8080/",
          "height": 206
        },
        "id": "RgXMkEbfX8Yh",
        "outputId": "e167da51-ca97-46f5-ef96-3eec45fab01b"
      },
      "execution_count": null,
      "outputs": [
        {
          "output_type": "execute_result",
          "data": {
            "text/plain": [
              "                                 Company Name            Industry      Symbol  \\\n",
              "0  Adani Ports and Special Economic Zone Ltd.            SERVICES  ADANIPORTS   \n",
              "1                           Asian Paints Ltd.      CONSUMER GOODS  ASIANPAINT   \n",
              "2                              Axis Bank Ltd.  FINANCIAL SERVICES    AXISBANK   \n",
              "3                             Bajaj Auto Ltd.          AUTOMOBILE  BAJAJ-AUTO   \n",
              "4                          Bajaj Finance Ltd.  FINANCIAL SERVICES  BAJFINANCE   \n",
              "\n",
              "  Series     ISIN Code  \n",
              "0     EQ  INE742F01042  \n",
              "1     EQ  INE021A01026  \n",
              "2     EQ  INE238A01034  \n",
              "3     EQ  INE917I01010  \n",
              "4     EQ  INE296A01024  "
            ],
            "text/html": [
              "\n",
              "  <div id=\"df-8f15f9ae-e7fe-4403-ad55-14b5b1fbe5e6\">\n",
              "    <div class=\"colab-df-container\">\n",
              "      <div>\n",
              "<style scoped>\n",
              "    .dataframe tbody tr th:only-of-type {\n",
              "        vertical-align: middle;\n",
              "    }\n",
              "\n",
              "    .dataframe tbody tr th {\n",
              "        vertical-align: top;\n",
              "    }\n",
              "\n",
              "    .dataframe thead th {\n",
              "        text-align: right;\n",
              "    }\n",
              "</style>\n",
              "<table border=\"1\" class=\"dataframe\">\n",
              "  <thead>\n",
              "    <tr style=\"text-align: right;\">\n",
              "      <th></th>\n",
              "      <th>Company Name</th>\n",
              "      <th>Industry</th>\n",
              "      <th>Symbol</th>\n",
              "      <th>Series</th>\n",
              "      <th>ISIN Code</th>\n",
              "    </tr>\n",
              "  </thead>\n",
              "  <tbody>\n",
              "    <tr>\n",
              "      <th>0</th>\n",
              "      <td>Adani Ports and Special Economic Zone Ltd.</td>\n",
              "      <td>SERVICES</td>\n",
              "      <td>ADANIPORTS</td>\n",
              "      <td>EQ</td>\n",
              "      <td>INE742F01042</td>\n",
              "    </tr>\n",
              "    <tr>\n",
              "      <th>1</th>\n",
              "      <td>Asian Paints Ltd.</td>\n",
              "      <td>CONSUMER GOODS</td>\n",
              "      <td>ASIANPAINT</td>\n",
              "      <td>EQ</td>\n",
              "      <td>INE021A01026</td>\n",
              "    </tr>\n",
              "    <tr>\n",
              "      <th>2</th>\n",
              "      <td>Axis Bank Ltd.</td>\n",
              "      <td>FINANCIAL SERVICES</td>\n",
              "      <td>AXISBANK</td>\n",
              "      <td>EQ</td>\n",
              "      <td>INE238A01034</td>\n",
              "    </tr>\n",
              "    <tr>\n",
              "      <th>3</th>\n",
              "      <td>Bajaj Auto Ltd.</td>\n",
              "      <td>AUTOMOBILE</td>\n",
              "      <td>BAJAJ-AUTO</td>\n",
              "      <td>EQ</td>\n",
              "      <td>INE917I01010</td>\n",
              "    </tr>\n",
              "    <tr>\n",
              "      <th>4</th>\n",
              "      <td>Bajaj Finance Ltd.</td>\n",
              "      <td>FINANCIAL SERVICES</td>\n",
              "      <td>BAJFINANCE</td>\n",
              "      <td>EQ</td>\n",
              "      <td>INE296A01024</td>\n",
              "    </tr>\n",
              "  </tbody>\n",
              "</table>\n",
              "</div>\n",
              "      <button class=\"colab-df-convert\" onclick=\"convertToInteractive('df-8f15f9ae-e7fe-4403-ad55-14b5b1fbe5e6')\"\n",
              "              title=\"Convert this dataframe to an interactive table.\"\n",
              "              style=\"display:none;\">\n",
              "        \n",
              "  <svg xmlns=\"http://www.w3.org/2000/svg\" height=\"24px\"viewBox=\"0 0 24 24\"\n",
              "       width=\"24px\">\n",
              "    <path d=\"M0 0h24v24H0V0z\" fill=\"none\"/>\n",
              "    <path d=\"M18.56 5.44l.94 2.06.94-2.06 2.06-.94-2.06-.94-.94-2.06-.94 2.06-2.06.94zm-11 1L8.5 8.5l.94-2.06 2.06-.94-2.06-.94L8.5 2.5l-.94 2.06-2.06.94zm10 10l.94 2.06.94-2.06 2.06-.94-2.06-.94-.94-2.06-.94 2.06-2.06.94z\"/><path d=\"M17.41 7.96l-1.37-1.37c-.4-.4-.92-.59-1.43-.59-.52 0-1.04.2-1.43.59L10.3 9.45l-7.72 7.72c-.78.78-.78 2.05 0 2.83L4 21.41c.39.39.9.59 1.41.59.51 0 1.02-.2 1.41-.59l7.78-7.78 2.81-2.81c.8-.78.8-2.07 0-2.86zM5.41 20L4 18.59l7.72-7.72 1.47 1.35L5.41 20z\"/>\n",
              "  </svg>\n",
              "      </button>\n",
              "      \n",
              "  <style>\n",
              "    .colab-df-container {\n",
              "      display:flex;\n",
              "      flex-wrap:wrap;\n",
              "      gap: 12px;\n",
              "    }\n",
              "\n",
              "    .colab-df-convert {\n",
              "      background-color: #E8F0FE;\n",
              "      border: none;\n",
              "      border-radius: 50%;\n",
              "      cursor: pointer;\n",
              "      display: none;\n",
              "      fill: #1967D2;\n",
              "      height: 32px;\n",
              "      padding: 0 0 0 0;\n",
              "      width: 32px;\n",
              "    }\n",
              "\n",
              "    .colab-df-convert:hover {\n",
              "      background-color: #E2EBFA;\n",
              "      box-shadow: 0px 1px 2px rgba(60, 64, 67, 0.3), 0px 1px 3px 1px rgba(60, 64, 67, 0.15);\n",
              "      fill: #174EA6;\n",
              "    }\n",
              "\n",
              "    [theme=dark] .colab-df-convert {\n",
              "      background-color: #3B4455;\n",
              "      fill: #D2E3FC;\n",
              "    }\n",
              "\n",
              "    [theme=dark] .colab-df-convert:hover {\n",
              "      background-color: #434B5C;\n",
              "      box-shadow: 0px 1px 3px 1px rgba(0, 0, 0, 0.15);\n",
              "      filter: drop-shadow(0px 1px 2px rgba(0, 0, 0, 0.3));\n",
              "      fill: #FFFFFF;\n",
              "    }\n",
              "  </style>\n",
              "\n",
              "      <script>\n",
              "        const buttonEl =\n",
              "          document.querySelector('#df-8f15f9ae-e7fe-4403-ad55-14b5b1fbe5e6 button.colab-df-convert');\n",
              "        buttonEl.style.display =\n",
              "          google.colab.kernel.accessAllowed ? 'block' : 'none';\n",
              "\n",
              "        async function convertToInteractive(key) {\n",
              "          const element = document.querySelector('#df-8f15f9ae-e7fe-4403-ad55-14b5b1fbe5e6');\n",
              "          const dataTable =\n",
              "            await google.colab.kernel.invokeFunction('convertToInteractive',\n",
              "                                                     [key], {});\n",
              "          if (!dataTable) return;\n",
              "\n",
              "          const docLinkHtml = 'Like what you see? Visit the ' +\n",
              "            '<a target=\"_blank\" href=https://colab.research.google.com/notebooks/data_table.ipynb>data table notebook</a>'\n",
              "            + ' to learn more about interactive tables.';\n",
              "          element.innerHTML = '';\n",
              "          dataTable['output_type'] = 'display_data';\n",
              "          await google.colab.output.renderOutput(dataTable, element);\n",
              "          const docLink = document.createElement('div');\n",
              "          docLink.innerHTML = docLinkHtml;\n",
              "          element.appendChild(docLink);\n",
              "        }\n",
              "      </script>\n",
              "    </div>\n",
              "  </div>\n",
              "  "
            ]
          },
          "metadata": {},
          "execution_count": 6
        }
      ]
    },
    {
      "cell_type": "code",
      "source": [
        "!pip install yfinance"
      ],
      "metadata": {
        "colab": {
          "base_uri": "https://localhost:8080/"
        },
        "id": "HYBtzu87YGRM",
        "outputId": "8a24a1b5-9baf-4431-a618-78b1a2825ddf"
      },
      "execution_count": null,
      "outputs": [
        {
          "output_type": "stream",
          "name": "stdout",
          "text": [
            "Looking in indexes: https://pypi.org/simple, https://us-python.pkg.dev/colab-wheels/public/simple/\n",
            "Collecting yfinance\n",
            "  Downloading yfinance-0.1.70-py2.py3-none-any.whl (26 kB)\n",
            "Requirement already satisfied: multitasking>=0.0.7 in /usr/local/lib/python3.7/dist-packages (from yfinance) (0.0.10)\n",
            "Collecting requests>=2.26\n",
            "  Downloading requests-2.27.1-py2.py3-none-any.whl (63 kB)\n",
            "\u001b[K     |████████████████████████████████| 63 kB 1.0 MB/s \n",
            "\u001b[?25hRequirement already satisfied: numpy>=1.15 in /usr/local/lib/python3.7/dist-packages (from yfinance) (1.21.6)\n",
            "Requirement already satisfied: pandas>=0.24.0 in /usr/local/lib/python3.7/dist-packages (from yfinance) (1.3.5)\n",
            "Collecting lxml>=4.5.1\n",
            "  Downloading lxml-4.9.0-cp37-cp37m-manylinux_2_17_x86_64.manylinux2014_x86_64.manylinux_2_24_x86_64.whl (6.4 MB)\n",
            "\u001b[K     |████████████████████████████████| 6.4 MB 7.7 MB/s \n",
            "\u001b[?25hRequirement already satisfied: pytz>=2017.3 in /usr/local/lib/python3.7/dist-packages (from pandas>=0.24.0->yfinance) (2022.1)\n",
            "Requirement already satisfied: python-dateutil>=2.7.3 in /usr/local/lib/python3.7/dist-packages (from pandas>=0.24.0->yfinance) (2.8.2)\n",
            "Requirement already satisfied: six>=1.5 in /usr/local/lib/python3.7/dist-packages (from python-dateutil>=2.7.3->pandas>=0.24.0->yfinance) (1.15.0)\n",
            "Requirement already satisfied: certifi>=2017.4.17 in /usr/local/lib/python3.7/dist-packages (from requests>=2.26->yfinance) (2022.5.18.1)\n",
            "Requirement already satisfied: charset-normalizer~=2.0.0 in /usr/local/lib/python3.7/dist-packages (from requests>=2.26->yfinance) (2.0.12)\n",
            "Requirement already satisfied: urllib3<1.27,>=1.21.1 in /usr/local/lib/python3.7/dist-packages (from requests>=2.26->yfinance) (1.24.3)\n",
            "Requirement already satisfied: idna<4,>=2.5 in /usr/local/lib/python3.7/dist-packages (from requests>=2.26->yfinance) (2.10)\n",
            "Installing collected packages: requests, lxml, yfinance\n",
            "  Attempting uninstall: requests\n",
            "    Found existing installation: requests 2.23.0\n",
            "    Uninstalling requests-2.23.0:\n",
            "      Successfully uninstalled requests-2.23.0\n",
            "  Attempting uninstall: lxml\n",
            "    Found existing installation: lxml 4.2.6\n",
            "    Uninstalling lxml-4.2.6:\n",
            "      Successfully uninstalled lxml-4.2.6\n",
            "\u001b[31mERROR: pip's dependency resolver does not currently take into account all the packages that are installed. This behaviour is the source of the following dependency conflicts.\n",
            "google-colab 1.0.0 requires requests~=2.23.0, but you have requests 2.27.1 which is incompatible.\n",
            "datascience 0.10.6 requires folium==0.2.1, but you have folium 0.8.3 which is incompatible.\u001b[0m\n",
            "Successfully installed lxml-4.9.0 requests-2.27.1 yfinance-0.1.70\n"
          ]
        }
      ]
    },
    {
      "cell_type": "code",
      "source": [
        "!pip install fix-yahoo-finance"
      ],
      "metadata": {
        "colab": {
          "base_uri": "https://localhost:8080/"
        },
        "id": "aM-IRjlSYMLe",
        "outputId": "39d95c26-1f80-4573-8e2c-5457ddf67463"
      },
      "execution_count": null,
      "outputs": [
        {
          "output_type": "stream",
          "name": "stdout",
          "text": [
            "Looking in indexes: https://pypi.org/simple, https://us-python.pkg.dev/colab-wheels/public/simple/\n",
            "Requirement already satisfied: fix-yahoo-finance in /usr/local/lib/python3.7/dist-packages (0.0.22)\n",
            "Requirement already satisfied: numpy in /usr/local/lib/python3.7/dist-packages (from fix-yahoo-finance) (1.21.6)\n",
            "Requirement already satisfied: requests in /usr/local/lib/python3.7/dist-packages (from fix-yahoo-finance) (2.27.1)\n",
            "Requirement already satisfied: multitasking in /usr/local/lib/python3.7/dist-packages (from fix-yahoo-finance) (0.0.10)\n",
            "Requirement already satisfied: pandas in /usr/local/lib/python3.7/dist-packages (from fix-yahoo-finance) (1.3.5)\n",
            "Requirement already satisfied: python-dateutil>=2.7.3 in /usr/local/lib/python3.7/dist-packages (from pandas->fix-yahoo-finance) (2.8.2)\n",
            "Requirement already satisfied: pytz>=2017.3 in /usr/local/lib/python3.7/dist-packages (from pandas->fix-yahoo-finance) (2022.1)\n",
            "Requirement already satisfied: six>=1.5 in /usr/local/lib/python3.7/dist-packages (from python-dateutil>=2.7.3->pandas->fix-yahoo-finance) (1.15.0)\n",
            "Requirement already satisfied: charset-normalizer~=2.0.0 in /usr/local/lib/python3.7/dist-packages (from requests->fix-yahoo-finance) (2.0.12)\n",
            "Requirement already satisfied: certifi>=2017.4.17 in /usr/local/lib/python3.7/dist-packages (from requests->fix-yahoo-finance) (2022.5.18.1)\n",
            "Requirement already satisfied: idna<4,>=2.5 in /usr/local/lib/python3.7/dist-packages (from requests->fix-yahoo-finance) (2.10)\n",
            "Requirement already satisfied: urllib3<1.27,>=1.21.1 in /usr/local/lib/python3.7/dist-packages (from requests->fix-yahoo-finance) (1.24.3)\n"
          ]
        }
      ]
    },
    {
      "cell_type": "code",
      "source": [
        "yf_symbols = list(map(lambda x: x + '.NS', list_of_symobols))\n",
        "yf_symbols"
      ],
      "metadata": {
        "colab": {
          "base_uri": "https://localhost:8080/"
        },
        "id": "ggSsNbSeYDPR",
        "outputId": "32cdce93-2888-4fca-fc18-730d2c3db09f"
      },
      "execution_count": null,
      "outputs": [
        {
          "output_type": "execute_result",
          "data": {
            "text/plain": [
              "['ADANIPORTS.NS',\n",
              " 'ASIANPAINT.NS',\n",
              " 'AXISBANK.NS',\n",
              " 'BAJAJ-AUTO.NS',\n",
              " 'BAJFINANCE.NS',\n",
              " 'BAJAJFINSV.NS',\n",
              " 'BPCL.NS',\n",
              " 'BHARTIARTL.NS',\n",
              " 'BRITANNIA.NS',\n",
              " 'CIPLA.NS',\n",
              " 'COALINDIA.NS',\n",
              " 'DIVISLAB.NS',\n",
              " 'DRREDDY.NS',\n",
              " 'EICHERMOT.NS',\n",
              " 'GRASIM.NS',\n",
              " 'HCLTECH.NS',\n",
              " 'HDFCBANK.NS',\n",
              " 'HDFCLIFE.NS',\n",
              " 'HEROMOTOCO.NS',\n",
              " 'HINDALCO.NS',\n",
              " 'HINDUNILVR.NS',\n",
              " 'HDFC.NS',\n",
              " 'ICICIBANK.NS',\n",
              " 'ITC.NS',\n",
              " 'IOC.NS',\n",
              " 'INDUSINDBK.NS',\n",
              " 'INFY.NS',\n",
              " 'JSWSTEEL.NS',\n",
              " 'KOTAKBANK.NS',\n",
              " 'LT.NS',\n",
              " 'M&M.NS',\n",
              " 'MARUTI.NS',\n",
              " 'NTPC.NS',\n",
              " 'NESTLEIND.NS',\n",
              " 'ONGC.NS',\n",
              " 'POWERGRID.NS',\n",
              " 'RELIANCE.NS',\n",
              " 'SBILIFE.NS',\n",
              " 'SHREECEM.NS',\n",
              " 'SBIN.NS',\n",
              " 'SUNPHARMA.NS',\n",
              " 'TCS.NS',\n",
              " 'TATACONSUM.NS',\n",
              " 'TATAMOTORS.NS',\n",
              " 'TATASTEEL.NS',\n",
              " 'TECHM.NS',\n",
              " 'TITAN.NS',\n",
              " 'UPL.NS',\n",
              " 'ULTRACEMCO.NS',\n",
              " 'WIPRO.NS']"
            ]
          },
          "metadata": {},
          "execution_count": 9
        }
      ]
    },
    {
      "cell_type": "code",
      "source": [
        "import yfinance as yf\n",
        "\n",
        "\n",
        "stock_financials = {\n",
        "    'marketCap': [],\n",
        "    'regularMarketVolume': [],\n",
        "    'earningsQuarterlyGrowth': [],\n",
        "    'bookValue': [],\n",
        "    'totalRevenue': [],\n",
        "    'returnOnAssets': [],\n",
        "    'profitMargins': [],\n",
        "    'earningsGrowth': []\n",
        "}\n",
        "\n",
        "for ticker in yf_symbols:\n",
        "    stock_info = yf.Ticker(ticker).info\n",
        "    stock_financials['marketCap'].append(stock_info['marketCap'])\n",
        "    stock_financials['regularMarketVolume'].append(stock_info['regularMarketVolume'])\n",
        "    stock_financials['earningsQuarterlyGrowth'].append(stock_info['earningsQuarterlyGrowth'])\n",
        "    stock_financials['bookValue'].append(stock_info['bookValue'])\n",
        "    stock_financials['totalRevenue'].append(stock_info['totalRevenue'])\n",
        "    stock_financials['returnOnAssets'].append(stock_info['returnOnAssets'])\n",
        "    stock_financials['profitMargins'].append(stock_info['profitMargins'])\n",
        "    stock_financials['earningsGrowth'].append(stock_info['earningsGrowth'])"
      ],
      "metadata": {
        "id": "nA2Fp2IzYQ9I"
      },
      "execution_count": null,
      "outputs": []
    },
    {
      "cell_type": "code",
      "source": [
        "df = pd.DataFrame(stock_financials)\n",
        "df.head"
      ],
      "metadata": {
        "colab": {
          "base_uri": "https://localhost:8080/",
          "height": 206
        },
        "id": "5Q_H4T6Kaw9O",
        "outputId": "acb3fbca-a80f-4d1f-c150-a2fd006144b1"
      },
      "execution_count": null,
      "outputs": [
        {
          "output_type": "execute_result",
          "data": {
            "text/plain": [
              "       marketCap  regularMarketVolume  earningsQuarterlyGrowth  bookValue  \\\n",
              "0  1539072720896              2839851                   -0.205    181.165   \n",
              "1  2596018061312              1742929                   -0.002    143.991   \n",
              "2  2041133006848              9280420                    0.502    385.482   \n",
              "3  1097901801472               346513                   -0.016   1033.043   \n",
              "4  3702931324928              1334050                    0.797    724.657   \n",
              "\n",
              "   totalRevenue  returnOnAssets  profitMargins  earningsGrowth  \n",
              "0  1.593403e+11         0.05149        0.29673          -0.235  \n",
              "1  2.898187e+11         0.11496        0.10457          -0.002  \n",
              "2  4.375369e+11         0.01288        0.32270           0.498  \n",
              "3  3.435395e+11         0.11259        0.17948          -0.015  \n",
              "4  1.708877e+11         0.03660        0.41128           0.793  "
            ],
            "text/html": [
              "\n",
              "  <div id=\"df-afff9c62-c997-4622-a463-703f23b4ff7f\">\n",
              "    <div class=\"colab-df-container\">\n",
              "      <div>\n",
              "<style scoped>\n",
              "    .dataframe tbody tr th:only-of-type {\n",
              "        vertical-align: middle;\n",
              "    }\n",
              "\n",
              "    .dataframe tbody tr th {\n",
              "        vertical-align: top;\n",
              "    }\n",
              "\n",
              "    .dataframe thead th {\n",
              "        text-align: right;\n",
              "    }\n",
              "</style>\n",
              "<table border=\"1\" class=\"dataframe\">\n",
              "  <thead>\n",
              "    <tr style=\"text-align: right;\">\n",
              "      <th></th>\n",
              "      <th>marketCap</th>\n",
              "      <th>regularMarketVolume</th>\n",
              "      <th>earningsQuarterlyGrowth</th>\n",
              "      <th>bookValue</th>\n",
              "      <th>totalRevenue</th>\n",
              "      <th>returnOnAssets</th>\n",
              "      <th>profitMargins</th>\n",
              "      <th>earningsGrowth</th>\n",
              "    </tr>\n",
              "  </thead>\n",
              "  <tbody>\n",
              "    <tr>\n",
              "      <th>0</th>\n",
              "      <td>1539072720896</td>\n",
              "      <td>2839851</td>\n",
              "      <td>-0.205</td>\n",
              "      <td>181.165</td>\n",
              "      <td>1.593403e+11</td>\n",
              "      <td>0.05149</td>\n",
              "      <td>0.29673</td>\n",
              "      <td>-0.235</td>\n",
              "    </tr>\n",
              "    <tr>\n",
              "      <th>1</th>\n",
              "      <td>2596018061312</td>\n",
              "      <td>1742929</td>\n",
              "      <td>-0.002</td>\n",
              "      <td>143.991</td>\n",
              "      <td>2.898187e+11</td>\n",
              "      <td>0.11496</td>\n",
              "      <td>0.10457</td>\n",
              "      <td>-0.002</td>\n",
              "    </tr>\n",
              "    <tr>\n",
              "      <th>2</th>\n",
              "      <td>2041133006848</td>\n",
              "      <td>9280420</td>\n",
              "      <td>0.502</td>\n",
              "      <td>385.482</td>\n",
              "      <td>4.375369e+11</td>\n",
              "      <td>0.01288</td>\n",
              "      <td>0.32270</td>\n",
              "      <td>0.498</td>\n",
              "    </tr>\n",
              "    <tr>\n",
              "      <th>3</th>\n",
              "      <td>1097901801472</td>\n",
              "      <td>346513</td>\n",
              "      <td>-0.016</td>\n",
              "      <td>1033.043</td>\n",
              "      <td>3.435395e+11</td>\n",
              "      <td>0.11259</td>\n",
              "      <td>0.17948</td>\n",
              "      <td>-0.015</td>\n",
              "    </tr>\n",
              "    <tr>\n",
              "      <th>4</th>\n",
              "      <td>3702931324928</td>\n",
              "      <td>1334050</td>\n",
              "      <td>0.797</td>\n",
              "      <td>724.657</td>\n",
              "      <td>1.708877e+11</td>\n",
              "      <td>0.03660</td>\n",
              "      <td>0.41128</td>\n",
              "      <td>0.793</td>\n",
              "    </tr>\n",
              "  </tbody>\n",
              "</table>\n",
              "</div>\n",
              "      <button class=\"colab-df-convert\" onclick=\"convertToInteractive('df-afff9c62-c997-4622-a463-703f23b4ff7f')\"\n",
              "              title=\"Convert this dataframe to an interactive table.\"\n",
              "              style=\"display:none;\">\n",
              "        \n",
              "  <svg xmlns=\"http://www.w3.org/2000/svg\" height=\"24px\"viewBox=\"0 0 24 24\"\n",
              "       width=\"24px\">\n",
              "    <path d=\"M0 0h24v24H0V0z\" fill=\"none\"/>\n",
              "    <path d=\"M18.56 5.44l.94 2.06.94-2.06 2.06-.94-2.06-.94-.94-2.06-.94 2.06-2.06.94zm-11 1L8.5 8.5l.94-2.06 2.06-.94-2.06-.94L8.5 2.5l-.94 2.06-2.06.94zm10 10l.94 2.06.94-2.06 2.06-.94-2.06-.94-.94-2.06-.94 2.06-2.06.94z\"/><path d=\"M17.41 7.96l-1.37-1.37c-.4-.4-.92-.59-1.43-.59-.52 0-1.04.2-1.43.59L10.3 9.45l-7.72 7.72c-.78.78-.78 2.05 0 2.83L4 21.41c.39.39.9.59 1.41.59.51 0 1.02-.2 1.41-.59l7.78-7.78 2.81-2.81c.8-.78.8-2.07 0-2.86zM5.41 20L4 18.59l7.72-7.72 1.47 1.35L5.41 20z\"/>\n",
              "  </svg>\n",
              "      </button>\n",
              "      \n",
              "  <style>\n",
              "    .colab-df-container {\n",
              "      display:flex;\n",
              "      flex-wrap:wrap;\n",
              "      gap: 12px;\n",
              "    }\n",
              "\n",
              "    .colab-df-convert {\n",
              "      background-color: #E8F0FE;\n",
              "      border: none;\n",
              "      border-radius: 50%;\n",
              "      cursor: pointer;\n",
              "      display: none;\n",
              "      fill: #1967D2;\n",
              "      height: 32px;\n",
              "      padding: 0 0 0 0;\n",
              "      width: 32px;\n",
              "    }\n",
              "\n",
              "    .colab-df-convert:hover {\n",
              "      background-color: #E2EBFA;\n",
              "      box-shadow: 0px 1px 2px rgba(60, 64, 67, 0.3), 0px 1px 3px 1px rgba(60, 64, 67, 0.15);\n",
              "      fill: #174EA6;\n",
              "    }\n",
              "\n",
              "    [theme=dark] .colab-df-convert {\n",
              "      background-color: #3B4455;\n",
              "      fill: #D2E3FC;\n",
              "    }\n",
              "\n",
              "    [theme=dark] .colab-df-convert:hover {\n",
              "      background-color: #434B5C;\n",
              "      box-shadow: 0px 1px 3px 1px rgba(0, 0, 0, 0.15);\n",
              "      filter: drop-shadow(0px 1px 2px rgba(0, 0, 0, 0.3));\n",
              "      fill: #FFFFFF;\n",
              "    }\n",
              "  </style>\n",
              "\n",
              "      <script>\n",
              "        const buttonEl =\n",
              "          document.querySelector('#df-afff9c62-c997-4622-a463-703f23b4ff7f button.colab-df-convert');\n",
              "        buttonEl.style.display =\n",
              "          google.colab.kernel.accessAllowed ? 'block' : 'none';\n",
              "\n",
              "        async function convertToInteractive(key) {\n",
              "          const element = document.querySelector('#df-afff9c62-c997-4622-a463-703f23b4ff7f');\n",
              "          const dataTable =\n",
              "            await google.colab.kernel.invokeFunction('convertToInteractive',\n",
              "                                                     [key], {});\n",
              "          if (!dataTable) return;\n",
              "\n",
              "          const docLinkHtml = 'Like what you see? Visit the ' +\n",
              "            '<a target=\"_blank\" href=https://colab.research.google.com/notebooks/data_table.ipynb>data table notebook</a>'\n",
              "            + ' to learn more about interactive tables.';\n",
              "          element.innerHTML = '';\n",
              "          dataTable['output_type'] = 'display_data';\n",
              "          await google.colab.output.renderOutput(dataTable, element);\n",
              "          const docLink = document.createElement('div');\n",
              "          docLink.innerHTML = docLinkHtml;\n",
              "          element.appendChild(docLink);\n",
              "        }\n",
              "      </script>\n",
              "    </div>\n",
              "  </div>\n",
              "  "
            ]
          },
          "metadata": {},
          "execution_count": 30
        }
      ]
    },
    {
      "cell_type": "code",
      "source": [
        "df.shape"
      ],
      "metadata": {
        "colab": {
          "base_uri": "https://localhost:8080/"
        },
        "id": "gQzY_eIYc4ht",
        "outputId": "05aaf62a-4c96-4f34-cd22-9545dd240693"
      },
      "execution_count": null,
      "outputs": [
        {
          "output_type": "execute_result",
          "data": {
            "text/plain": [
              "(50, 8)"
            ]
          },
          "metadata": {},
          "execution_count": 32
        }
      ]
    },
    {
      "cell_type": "code",
      "source": [
        "df.info()"
      ],
      "metadata": {
        "colab": {
          "base_uri": "https://localhost:8080/"
        },
        "id": "-HTSDIrYdBWt",
        "outputId": "a07b134c-3a64-4a3f-b764-6c22f10de279"
      },
      "execution_count": null,
      "outputs": [
        {
          "output_type": "stream",
          "name": "stdout",
          "text": [
            "<class 'pandas.core.frame.DataFrame'>\n",
            "RangeIndex: 50 entries, 0 to 49\n",
            "Data columns (total 8 columns):\n",
            " #   Column                   Non-Null Count  Dtype  \n",
            "---  ------                   --------------  -----  \n",
            " 0   marketCap                50 non-null     int64  \n",
            " 1   regularMarketVolume      50 non-null     int64  \n",
            " 2   earningsQuarterlyGrowth  48 non-null     float64\n",
            " 3   bookValue                49 non-null     float64\n",
            " 4   totalRevenue             49 non-null     float64\n",
            " 5   returnOnAssets           22 non-null     float64\n",
            " 6   profitMargins            50 non-null     float64\n",
            " 7   earningsGrowth           48 non-null     float64\n",
            "dtypes: float64(6), int64(2)\n",
            "memory usage: 3.2 KB\n"
          ]
        }
      ]
    },
    {
      "cell_type": "code",
      "source": [
        "import yfinance as yf\n",
        "\n",
        "stock_prices = yf.download(yf_symbols, start='2020-01-01')['Adj Close']\n",
        "stock_prices.columns = list_of_symobols"
      ],
      "metadata": {
        "colab": {
          "base_uri": "https://localhost:8080/"
        },
        "id": "IMcIQFsZdIZA",
        "outputId": "f725abca-b031-4ded-94e8-76cb7467fcfd"
      },
      "execution_count": null,
      "outputs": [
        {
          "output_type": "stream",
          "name": "stdout",
          "text": [
            "[*********************100%***********************]  50 of 50 completed\n"
          ]
        }
      ]
    },
    {
      "cell_type": "code",
      "source": [
        "stock_prices.shape"
      ],
      "metadata": {
        "colab": {
          "base_uri": "https://localhost:8080/"
        },
        "id": "TCoVkouVdSg7",
        "outputId": "fe282b98-ea6e-4ab2-f060-726d718fa295"
      },
      "execution_count": null,
      "outputs": [
        {
          "output_type": "execute_result",
          "data": {
            "text/plain": [
              "(606, 50)"
            ]
          },
          "metadata": {},
          "execution_count": 40
        }
      ]
    },
    {
      "cell_type": "code",
      "source": [
        "stock_prices.head()"
      ],
      "metadata": {
        "colab": {
          "base_uri": "https://localhost:8080/",
          "height": 435
        },
        "id": "IGftzL_5dVXl",
        "outputId": "7935d2d6-23f0-4807-89bf-cdc3194eebff"
      },
      "execution_count": null,
      "outputs": [
        {
          "output_type": "execute_result",
          "data": {
            "text/plain": [
              "            ADANIPORTS   ASIANPAINT    AXISBANK   BAJAJ-AUTO   BAJFINANCE  \\\n",
              "Date                                                                        \n",
              "2020-01-01  370.923370  1770.856567  748.700012  2913.946289  9370.917969   \n",
              "2020-01-02  376.325409  1768.338379  756.950012  2887.027588  9497.965820   \n",
              "2020-01-03  375.687012  1729.577393  742.950012  2841.747314  9338.342773   \n",
              "2020-01-06  373.427948  1685.878662  723.250000  2809.926270  9035.437500   \n",
              "2020-01-07  377.946014  1702.913940  725.750000  2810.203613  9088.344727   \n",
              "\n",
              "             BAJAJFINSV        BPCL  BHARTIARTL    BRITANNIA       CIPLA  ...  \\\n",
              "Date                                                                      ...   \n",
              "2020-01-01  4214.786133  451.707916  401.235718  2883.703125  472.062744  ...   \n",
              "2020-01-02  4229.478516  453.601257  397.889709  2896.747559  469.682129  ...   \n",
              "2020-01-03  4177.084473  453.501617  394.584534  2882.896729  466.160767  ...   \n",
              "2020-01-06  3981.102051  448.070740  382.873474  2867.005859  462.986542  ...   \n",
              "2020-01-07  3992.009277  443.536713  376.222260  2880.809570  464.821655  ...   \n",
              "\n",
              "             SUNPHARMA         TCS  TATACONSUM  TATAMOTORS    TATASTEEL  \\\n",
              "Date                                                                      \n",
              "2020-01-01  422.185211  319.631714  184.449997  445.952484  2086.098145   \n",
              "2020-01-02  422.817139  319.138245  193.750000  462.255585  2076.521973   \n",
              "2020-01-03  432.197937  314.055328  191.100006  461.159210  2117.905029   \n",
              "2020-01-06  427.677643  308.034790  185.649994  451.196167  2117.712646   \n",
              "2020-01-07  433.947693  310.798309  184.699997  453.913361  2122.909668   \n",
              "\n",
              "                 TECHM        TITAN          UPL  ULTRACEMCO       WIPRO  \n",
              "Date                                                                      \n",
              "2020-01-01  705.708984  1143.308716  4032.545898  574.207214  243.721527  \n",
              "2020-01-02  709.366699  1144.150269  4210.910156  581.235352  244.311905  \n",
              "2020-01-03  717.747009  1128.407837  4185.514648  576.647583  247.066925  \n",
              "2020-01-06  713.394836  1147.120728  4123.910645  570.986023  248.100067  \n",
              "2020-01-07  719.598999  1148.457275  4208.231934  580.844910  251.101074  \n",
              "\n",
              "[5 rows x 50 columns]"
            ],
            "text/html": [
              "\n",
              "  <div id=\"df-1ff7a8a7-1a1a-47c5-baea-95de4d8104fc\">\n",
              "    <div class=\"colab-df-container\">\n",
              "      <div>\n",
              "<style scoped>\n",
              "    .dataframe tbody tr th:only-of-type {\n",
              "        vertical-align: middle;\n",
              "    }\n",
              "\n",
              "    .dataframe tbody tr th {\n",
              "        vertical-align: top;\n",
              "    }\n",
              "\n",
              "    .dataframe thead th {\n",
              "        text-align: right;\n",
              "    }\n",
              "</style>\n",
              "<table border=\"1\" class=\"dataframe\">\n",
              "  <thead>\n",
              "    <tr style=\"text-align: right;\">\n",
              "      <th></th>\n",
              "      <th>ADANIPORTS</th>\n",
              "      <th>ASIANPAINT</th>\n",
              "      <th>AXISBANK</th>\n",
              "      <th>BAJAJ-AUTO</th>\n",
              "      <th>BAJFINANCE</th>\n",
              "      <th>BAJAJFINSV</th>\n",
              "      <th>BPCL</th>\n",
              "      <th>BHARTIARTL</th>\n",
              "      <th>BRITANNIA</th>\n",
              "      <th>CIPLA</th>\n",
              "      <th>...</th>\n",
              "      <th>SUNPHARMA</th>\n",
              "      <th>TCS</th>\n",
              "      <th>TATACONSUM</th>\n",
              "      <th>TATAMOTORS</th>\n",
              "      <th>TATASTEEL</th>\n",
              "      <th>TECHM</th>\n",
              "      <th>TITAN</th>\n",
              "      <th>UPL</th>\n",
              "      <th>ULTRACEMCO</th>\n",
              "      <th>WIPRO</th>\n",
              "    </tr>\n",
              "    <tr>\n",
              "      <th>Date</th>\n",
              "      <th></th>\n",
              "      <th></th>\n",
              "      <th></th>\n",
              "      <th></th>\n",
              "      <th></th>\n",
              "      <th></th>\n",
              "      <th></th>\n",
              "      <th></th>\n",
              "      <th></th>\n",
              "      <th></th>\n",
              "      <th></th>\n",
              "      <th></th>\n",
              "      <th></th>\n",
              "      <th></th>\n",
              "      <th></th>\n",
              "      <th></th>\n",
              "      <th></th>\n",
              "      <th></th>\n",
              "      <th></th>\n",
              "      <th></th>\n",
              "      <th></th>\n",
              "    </tr>\n",
              "  </thead>\n",
              "  <tbody>\n",
              "    <tr>\n",
              "      <th>2020-01-01</th>\n",
              "      <td>370.923370</td>\n",
              "      <td>1770.856567</td>\n",
              "      <td>748.700012</td>\n",
              "      <td>2913.946289</td>\n",
              "      <td>9370.917969</td>\n",
              "      <td>4214.786133</td>\n",
              "      <td>451.707916</td>\n",
              "      <td>401.235718</td>\n",
              "      <td>2883.703125</td>\n",
              "      <td>472.062744</td>\n",
              "      <td>...</td>\n",
              "      <td>422.185211</td>\n",
              "      <td>319.631714</td>\n",
              "      <td>184.449997</td>\n",
              "      <td>445.952484</td>\n",
              "      <td>2086.098145</td>\n",
              "      <td>705.708984</td>\n",
              "      <td>1143.308716</td>\n",
              "      <td>4032.545898</td>\n",
              "      <td>574.207214</td>\n",
              "      <td>243.721527</td>\n",
              "    </tr>\n",
              "    <tr>\n",
              "      <th>2020-01-02</th>\n",
              "      <td>376.325409</td>\n",
              "      <td>1768.338379</td>\n",
              "      <td>756.950012</td>\n",
              "      <td>2887.027588</td>\n",
              "      <td>9497.965820</td>\n",
              "      <td>4229.478516</td>\n",
              "      <td>453.601257</td>\n",
              "      <td>397.889709</td>\n",
              "      <td>2896.747559</td>\n",
              "      <td>469.682129</td>\n",
              "      <td>...</td>\n",
              "      <td>422.817139</td>\n",
              "      <td>319.138245</td>\n",
              "      <td>193.750000</td>\n",
              "      <td>462.255585</td>\n",
              "      <td>2076.521973</td>\n",
              "      <td>709.366699</td>\n",
              "      <td>1144.150269</td>\n",
              "      <td>4210.910156</td>\n",
              "      <td>581.235352</td>\n",
              "      <td>244.311905</td>\n",
              "    </tr>\n",
              "    <tr>\n",
              "      <th>2020-01-03</th>\n",
              "      <td>375.687012</td>\n",
              "      <td>1729.577393</td>\n",
              "      <td>742.950012</td>\n",
              "      <td>2841.747314</td>\n",
              "      <td>9338.342773</td>\n",
              "      <td>4177.084473</td>\n",
              "      <td>453.501617</td>\n",
              "      <td>394.584534</td>\n",
              "      <td>2882.896729</td>\n",
              "      <td>466.160767</td>\n",
              "      <td>...</td>\n",
              "      <td>432.197937</td>\n",
              "      <td>314.055328</td>\n",
              "      <td>191.100006</td>\n",
              "      <td>461.159210</td>\n",
              "      <td>2117.905029</td>\n",
              "      <td>717.747009</td>\n",
              "      <td>1128.407837</td>\n",
              "      <td>4185.514648</td>\n",
              "      <td>576.647583</td>\n",
              "      <td>247.066925</td>\n",
              "    </tr>\n",
              "    <tr>\n",
              "      <th>2020-01-06</th>\n",
              "      <td>373.427948</td>\n",
              "      <td>1685.878662</td>\n",
              "      <td>723.250000</td>\n",
              "      <td>2809.926270</td>\n",
              "      <td>9035.437500</td>\n",
              "      <td>3981.102051</td>\n",
              "      <td>448.070740</td>\n",
              "      <td>382.873474</td>\n",
              "      <td>2867.005859</td>\n",
              "      <td>462.986542</td>\n",
              "      <td>...</td>\n",
              "      <td>427.677643</td>\n",
              "      <td>308.034790</td>\n",
              "      <td>185.649994</td>\n",
              "      <td>451.196167</td>\n",
              "      <td>2117.712646</td>\n",
              "      <td>713.394836</td>\n",
              "      <td>1147.120728</td>\n",
              "      <td>4123.910645</td>\n",
              "      <td>570.986023</td>\n",
              "      <td>248.100067</td>\n",
              "    </tr>\n",
              "    <tr>\n",
              "      <th>2020-01-07</th>\n",
              "      <td>377.946014</td>\n",
              "      <td>1702.913940</td>\n",
              "      <td>725.750000</td>\n",
              "      <td>2810.203613</td>\n",
              "      <td>9088.344727</td>\n",
              "      <td>3992.009277</td>\n",
              "      <td>443.536713</td>\n",
              "      <td>376.222260</td>\n",
              "      <td>2880.809570</td>\n",
              "      <td>464.821655</td>\n",
              "      <td>...</td>\n",
              "      <td>433.947693</td>\n",
              "      <td>310.798309</td>\n",
              "      <td>184.699997</td>\n",
              "      <td>453.913361</td>\n",
              "      <td>2122.909668</td>\n",
              "      <td>719.598999</td>\n",
              "      <td>1148.457275</td>\n",
              "      <td>4208.231934</td>\n",
              "      <td>580.844910</td>\n",
              "      <td>251.101074</td>\n",
              "    </tr>\n",
              "  </tbody>\n",
              "</table>\n",
              "<p>5 rows × 50 columns</p>\n",
              "</div>\n",
              "      <button class=\"colab-df-convert\" onclick=\"convertToInteractive('df-1ff7a8a7-1a1a-47c5-baea-95de4d8104fc')\"\n",
              "              title=\"Convert this dataframe to an interactive table.\"\n",
              "              style=\"display:none;\">\n",
              "        \n",
              "  <svg xmlns=\"http://www.w3.org/2000/svg\" height=\"24px\"viewBox=\"0 0 24 24\"\n",
              "       width=\"24px\">\n",
              "    <path d=\"M0 0h24v24H0V0z\" fill=\"none\"/>\n",
              "    <path d=\"M18.56 5.44l.94 2.06.94-2.06 2.06-.94-2.06-.94-.94-2.06-.94 2.06-2.06.94zm-11 1L8.5 8.5l.94-2.06 2.06-.94-2.06-.94L8.5 2.5l-.94 2.06-2.06.94zm10 10l.94 2.06.94-2.06 2.06-.94-2.06-.94-.94-2.06-.94 2.06-2.06.94z\"/><path d=\"M17.41 7.96l-1.37-1.37c-.4-.4-.92-.59-1.43-.59-.52 0-1.04.2-1.43.59L10.3 9.45l-7.72 7.72c-.78.78-.78 2.05 0 2.83L4 21.41c.39.39.9.59 1.41.59.51 0 1.02-.2 1.41-.59l7.78-7.78 2.81-2.81c.8-.78.8-2.07 0-2.86zM5.41 20L4 18.59l7.72-7.72 1.47 1.35L5.41 20z\"/>\n",
              "  </svg>\n",
              "      </button>\n",
              "      \n",
              "  <style>\n",
              "    .colab-df-container {\n",
              "      display:flex;\n",
              "      flex-wrap:wrap;\n",
              "      gap: 12px;\n",
              "    }\n",
              "\n",
              "    .colab-df-convert {\n",
              "      background-color: #E8F0FE;\n",
              "      border: none;\n",
              "      border-radius: 50%;\n",
              "      cursor: pointer;\n",
              "      display: none;\n",
              "      fill: #1967D2;\n",
              "      height: 32px;\n",
              "      padding: 0 0 0 0;\n",
              "      width: 32px;\n",
              "    }\n",
              "\n",
              "    .colab-df-convert:hover {\n",
              "      background-color: #E2EBFA;\n",
              "      box-shadow: 0px 1px 2px rgba(60, 64, 67, 0.3), 0px 1px 3px 1px rgba(60, 64, 67, 0.15);\n",
              "      fill: #174EA6;\n",
              "    }\n",
              "\n",
              "    [theme=dark] .colab-df-convert {\n",
              "      background-color: #3B4455;\n",
              "      fill: #D2E3FC;\n",
              "    }\n",
              "\n",
              "    [theme=dark] .colab-df-convert:hover {\n",
              "      background-color: #434B5C;\n",
              "      box-shadow: 0px 1px 3px 1px rgba(0, 0, 0, 0.15);\n",
              "      filter: drop-shadow(0px 1px 2px rgba(0, 0, 0, 0.3));\n",
              "      fill: #FFFFFF;\n",
              "    }\n",
              "  </style>\n",
              "\n",
              "      <script>\n",
              "        const buttonEl =\n",
              "          document.querySelector('#df-1ff7a8a7-1a1a-47c5-baea-95de4d8104fc button.colab-df-convert');\n",
              "        buttonEl.style.display =\n",
              "          google.colab.kernel.accessAllowed ? 'block' : 'none';\n",
              "\n",
              "        async function convertToInteractive(key) {\n",
              "          const element = document.querySelector('#df-1ff7a8a7-1a1a-47c5-baea-95de4d8104fc');\n",
              "          const dataTable =\n",
              "            await google.colab.kernel.invokeFunction('convertToInteractive',\n",
              "                                                     [key], {});\n",
              "          if (!dataTable) return;\n",
              "\n",
              "          const docLinkHtml = 'Like what you see? Visit the ' +\n",
              "            '<a target=\"_blank\" href=https://colab.research.google.com/notebooks/data_table.ipynb>data table notebook</a>'\n",
              "            + ' to learn more about interactive tables.';\n",
              "          element.innerHTML = '';\n",
              "          dataTable['output_type'] = 'display_data';\n",
              "          await google.colab.output.renderOutput(dataTable, element);\n",
              "          const docLink = document.createElement('div');\n",
              "          docLink.innerHTML = docLinkHtml;\n",
              "          element.appendChild(docLink);\n",
              "        }\n",
              "      </script>\n",
              "    </div>\n",
              "  </div>\n",
              "  "
            ]
          },
          "metadata": {},
          "execution_count": 41
        }
      ]
    },
    {
      "cell_type": "code",
      "source": [
        "##2020 returns\n",
        "price_2020 = stock_prices.loc[\"2020-01-02 00:00:00\":\"2020-12-31 00:00:00\"]\n",
        "stock_prices.loc['returns_2020'] = (price_2020.loc['2020-12-31 00:00:00'] / price_2020.loc['2020-01-02 00:00:00'] - 1)*100\n",
        "\n",
        "stock_prices"
      ],
      "metadata": {
        "colab": {
          "base_uri": "https://localhost:8080/",
          "height": 693
        },
        "id": "KQ4aycjjdhw4",
        "outputId": "4843ef84-596c-4c8f-f06f-1b0c72477733"
      },
      "execution_count": null,
      "outputs": [
        {
          "output_type": "execute_result",
          "data": {
            "text/plain": [
              "                     ADANIPORTS   ASIANPAINT    AXISBANK   BAJAJ-AUTO  \\\n",
              "Date                                                                    \n",
              "2020-01-01 00:00:00  370.923370  1770.856567  748.700012  2913.946289   \n",
              "2020-01-02 00:00:00  376.325409  1768.338379  756.950012  2887.027588   \n",
              "2020-01-03 00:00:00  375.687012  1729.577393  742.950012  2841.747314   \n",
              "2020-01-06 00:00:00  373.427948  1685.878662  723.250000  2809.926270   \n",
              "2020-01-07 00:00:00  377.946014  1702.913940  725.750000  2810.203613   \n",
              "...                         ...          ...         ...          ...   \n",
              "2022-06-03 00:00:00  739.900024  2886.899902  677.299988  3672.699951   \n",
              "2022-06-06 00:00:00  741.250000  2817.449951  672.200012  3817.000000   \n",
              "2022-06-07 00:00:00  734.549988  2744.699951  665.849976  3834.100098   \n",
              "2022-06-08 00:00:00  728.599976  2705.199951  658.599976  3794.149902   \n",
              "returns_2020          27.651373    55.379620  -18.032895    15.306363   \n",
              "\n",
              "                       BAJFINANCE   BAJAJFINSV        BPCL  BHARTIARTL  \\\n",
              "Date                                                                     \n",
              "2020-01-01 00:00:00   9370.917969  4214.786133  451.707916  401.235718   \n",
              "2020-01-02 00:00:00   9497.965820  4229.478516  453.601257  397.889709   \n",
              "2020-01-03 00:00:00   9338.342773  4177.084473  453.501617  394.584534   \n",
              "2020-01-06 00:00:00   9035.437500  3981.102051  448.070740  382.873474   \n",
              "2020-01-07 00:00:00   9088.344727  3992.009277  443.536713  376.222260   \n",
              "...                           ...          ...         ...         ...   \n",
              "2022-06-03 00:00:00  12691.599609  6028.200195  686.500000  328.149994   \n",
              "2022-06-06 00:00:00  12516.400391  6021.000000  682.950012  319.350006   \n",
              "2022-06-07 00:00:00  12338.700195  5878.600098  685.299988  320.250000   \n",
              "2022-06-08 00:00:00  12465.000000  5954.299805  663.299988  323.899994   \n",
              "returns_2020            -6.251606    24.995498   12.367416  -17.553768   \n",
              "\n",
              "                       BRITANNIA       CIPLA  ...   SUNPHARMA         TCS  \\\n",
              "Date                                          ...                           \n",
              "2020-01-01 00:00:00  2883.703125  472.062744  ...  422.185211  319.631714   \n",
              "2020-01-02 00:00:00  2896.747559  469.682129  ...  422.817139  319.138245   \n",
              "2020-01-03 00:00:00  2882.896729  466.160767  ...  432.197937  314.055328   \n",
              "2020-01-06 00:00:00  2867.005859  462.986542  ...  427.677643  308.034790   \n",
              "2020-01-07 00:00:00  2880.809570  464.821655  ...  433.947693  310.798309   \n",
              "...                          ...         ...  ...         ...         ...   \n",
              "2022-06-03 00:00:00  3530.000000  960.950012  ...  865.099976  753.900024   \n",
              "2022-06-06 00:00:00  3491.949951  976.049988  ...  859.799988  763.650024   \n",
              "2022-06-07 00:00:00  3383.449951  972.750000  ...  848.250000  756.599976   \n",
              "2022-06-08 00:00:00  3361.500000  962.950012  ...  847.250000  757.150024   \n",
              "returns_2020           21.001775   73.617684  ...   37.432522   83.776424   \n",
              "\n",
              "                     TATACONSUM   TATAMOTORS    TATASTEEL        TECHM  \\\n",
              "Date                                                                     \n",
              "2020-01-01 00:00:00  184.449997   445.952484  2086.098145   705.708984   \n",
              "2020-01-02 00:00:00  193.750000   462.255585  2076.521973   709.366699   \n",
              "2020-01-03 00:00:00  191.100006   461.159210  2117.905029   717.747009   \n",
              "2020-01-06 00:00:00  185.649994   451.196167  2117.712646   713.394836   \n",
              "2020-01-07 00:00:00  184.699997   453.913361  2122.909668   719.598999   \n",
              "...                         ...          ...          ...          ...   \n",
              "2022-06-03 00:00:00  431.899994  1067.300049  3440.149902  1147.900024   \n",
              "2022-06-06 00:00:00  432.350006  1078.099976  3430.949951  1144.199951   \n",
              "2022-06-07 00:00:00  435.850006  1068.500000  3362.699951  1130.300049   \n",
              "2022-06-08 00:00:00  435.649994  1086.750000  3404.149902  1124.199951   \n",
              "returns_2020          -5.109674    36.193371    35.221166    32.288761   \n",
              "\n",
              "                           TITAN          UPL  ULTRACEMCO       WIPRO  \n",
              "Date                                                                   \n",
              "2020-01-01 00:00:00  1143.308716  4032.545898  574.207214  243.721527  \n",
              "2020-01-02 00:00:00  1144.150269  4210.910156  581.235352  244.311905  \n",
              "2020-01-03 00:00:00  1128.407837  4185.514648  576.647583  247.066925  \n",
              "2020-01-06 00:00:00  1147.120728  4123.910645  570.986023  248.100067  \n",
              "2020-01-07 00:00:00  1148.457275  4208.231934  580.844910  251.101074  \n",
              "...                          ...          ...         ...         ...  \n",
              "2022-06-03 00:00:00  2204.399902  5678.850098  769.650024  475.500000  \n",
              "2022-06-06 00:00:00  2198.550049  5581.350098  779.000000  473.200012  \n",
              "2022-06-07 00:00:00  2100.800049  5555.200195  746.200012  467.649994  \n",
              "2022-06-08 00:00:00  2128.850098  5531.850098  735.150024  470.399994  \n",
              "returns_2020           36.642850    24.972263  -20.730130   56.185801  \n",
              "\n",
              "[607 rows x 50 columns]"
            ],
            "text/html": [
              "\n",
              "  <div id=\"df-7266592a-8e5f-4bf0-a012-dbf2b8bd627f\">\n",
              "    <div class=\"colab-df-container\">\n",
              "      <div>\n",
              "<style scoped>\n",
              "    .dataframe tbody tr th:only-of-type {\n",
              "        vertical-align: middle;\n",
              "    }\n",
              "\n",
              "    .dataframe tbody tr th {\n",
              "        vertical-align: top;\n",
              "    }\n",
              "\n",
              "    .dataframe thead th {\n",
              "        text-align: right;\n",
              "    }\n",
              "</style>\n",
              "<table border=\"1\" class=\"dataframe\">\n",
              "  <thead>\n",
              "    <tr style=\"text-align: right;\">\n",
              "      <th></th>\n",
              "      <th>ADANIPORTS</th>\n",
              "      <th>ASIANPAINT</th>\n",
              "      <th>AXISBANK</th>\n",
              "      <th>BAJAJ-AUTO</th>\n",
              "      <th>BAJFINANCE</th>\n",
              "      <th>BAJAJFINSV</th>\n",
              "      <th>BPCL</th>\n",
              "      <th>BHARTIARTL</th>\n",
              "      <th>BRITANNIA</th>\n",
              "      <th>CIPLA</th>\n",
              "      <th>...</th>\n",
              "      <th>SUNPHARMA</th>\n",
              "      <th>TCS</th>\n",
              "      <th>TATACONSUM</th>\n",
              "      <th>TATAMOTORS</th>\n",
              "      <th>TATASTEEL</th>\n",
              "      <th>TECHM</th>\n",
              "      <th>TITAN</th>\n",
              "      <th>UPL</th>\n",
              "      <th>ULTRACEMCO</th>\n",
              "      <th>WIPRO</th>\n",
              "    </tr>\n",
              "    <tr>\n",
              "      <th>Date</th>\n",
              "      <th></th>\n",
              "      <th></th>\n",
              "      <th></th>\n",
              "      <th></th>\n",
              "      <th></th>\n",
              "      <th></th>\n",
              "      <th></th>\n",
              "      <th></th>\n",
              "      <th></th>\n",
              "      <th></th>\n",
              "      <th></th>\n",
              "      <th></th>\n",
              "      <th></th>\n",
              "      <th></th>\n",
              "      <th></th>\n",
              "      <th></th>\n",
              "      <th></th>\n",
              "      <th></th>\n",
              "      <th></th>\n",
              "      <th></th>\n",
              "      <th></th>\n",
              "    </tr>\n",
              "  </thead>\n",
              "  <tbody>\n",
              "    <tr>\n",
              "      <th>2020-01-01 00:00:00</th>\n",
              "      <td>370.923370</td>\n",
              "      <td>1770.856567</td>\n",
              "      <td>748.700012</td>\n",
              "      <td>2913.946289</td>\n",
              "      <td>9370.917969</td>\n",
              "      <td>4214.786133</td>\n",
              "      <td>451.707916</td>\n",
              "      <td>401.235718</td>\n",
              "      <td>2883.703125</td>\n",
              "      <td>472.062744</td>\n",
              "      <td>...</td>\n",
              "      <td>422.185211</td>\n",
              "      <td>319.631714</td>\n",
              "      <td>184.449997</td>\n",
              "      <td>445.952484</td>\n",
              "      <td>2086.098145</td>\n",
              "      <td>705.708984</td>\n",
              "      <td>1143.308716</td>\n",
              "      <td>4032.545898</td>\n",
              "      <td>574.207214</td>\n",
              "      <td>243.721527</td>\n",
              "    </tr>\n",
              "    <tr>\n",
              "      <th>2020-01-02 00:00:00</th>\n",
              "      <td>376.325409</td>\n",
              "      <td>1768.338379</td>\n",
              "      <td>756.950012</td>\n",
              "      <td>2887.027588</td>\n",
              "      <td>9497.965820</td>\n",
              "      <td>4229.478516</td>\n",
              "      <td>453.601257</td>\n",
              "      <td>397.889709</td>\n",
              "      <td>2896.747559</td>\n",
              "      <td>469.682129</td>\n",
              "      <td>...</td>\n",
              "      <td>422.817139</td>\n",
              "      <td>319.138245</td>\n",
              "      <td>193.750000</td>\n",
              "      <td>462.255585</td>\n",
              "      <td>2076.521973</td>\n",
              "      <td>709.366699</td>\n",
              "      <td>1144.150269</td>\n",
              "      <td>4210.910156</td>\n",
              "      <td>581.235352</td>\n",
              "      <td>244.311905</td>\n",
              "    </tr>\n",
              "    <tr>\n",
              "      <th>2020-01-03 00:00:00</th>\n",
              "      <td>375.687012</td>\n",
              "      <td>1729.577393</td>\n",
              "      <td>742.950012</td>\n",
              "      <td>2841.747314</td>\n",
              "      <td>9338.342773</td>\n",
              "      <td>4177.084473</td>\n",
              "      <td>453.501617</td>\n",
              "      <td>394.584534</td>\n",
              "      <td>2882.896729</td>\n",
              "      <td>466.160767</td>\n",
              "      <td>...</td>\n",
              "      <td>432.197937</td>\n",
              "      <td>314.055328</td>\n",
              "      <td>191.100006</td>\n",
              "      <td>461.159210</td>\n",
              "      <td>2117.905029</td>\n",
              "      <td>717.747009</td>\n",
              "      <td>1128.407837</td>\n",
              "      <td>4185.514648</td>\n",
              "      <td>576.647583</td>\n",
              "      <td>247.066925</td>\n",
              "    </tr>\n",
              "    <tr>\n",
              "      <th>2020-01-06 00:00:00</th>\n",
              "      <td>373.427948</td>\n",
              "      <td>1685.878662</td>\n",
              "      <td>723.250000</td>\n",
              "      <td>2809.926270</td>\n",
              "      <td>9035.437500</td>\n",
              "      <td>3981.102051</td>\n",
              "      <td>448.070740</td>\n",
              "      <td>382.873474</td>\n",
              "      <td>2867.005859</td>\n",
              "      <td>462.986542</td>\n",
              "      <td>...</td>\n",
              "      <td>427.677643</td>\n",
              "      <td>308.034790</td>\n",
              "      <td>185.649994</td>\n",
              "      <td>451.196167</td>\n",
              "      <td>2117.712646</td>\n",
              "      <td>713.394836</td>\n",
              "      <td>1147.120728</td>\n",
              "      <td>4123.910645</td>\n",
              "      <td>570.986023</td>\n",
              "      <td>248.100067</td>\n",
              "    </tr>\n",
              "    <tr>\n",
              "      <th>2020-01-07 00:00:00</th>\n",
              "      <td>377.946014</td>\n",
              "      <td>1702.913940</td>\n",
              "      <td>725.750000</td>\n",
              "      <td>2810.203613</td>\n",
              "      <td>9088.344727</td>\n",
              "      <td>3992.009277</td>\n",
              "      <td>443.536713</td>\n",
              "      <td>376.222260</td>\n",
              "      <td>2880.809570</td>\n",
              "      <td>464.821655</td>\n",
              "      <td>...</td>\n",
              "      <td>433.947693</td>\n",
              "      <td>310.798309</td>\n",
              "      <td>184.699997</td>\n",
              "      <td>453.913361</td>\n",
              "      <td>2122.909668</td>\n",
              "      <td>719.598999</td>\n",
              "      <td>1148.457275</td>\n",
              "      <td>4208.231934</td>\n",
              "      <td>580.844910</td>\n",
              "      <td>251.101074</td>\n",
              "    </tr>\n",
              "    <tr>\n",
              "      <th>...</th>\n",
              "      <td>...</td>\n",
              "      <td>...</td>\n",
              "      <td>...</td>\n",
              "      <td>...</td>\n",
              "      <td>...</td>\n",
              "      <td>...</td>\n",
              "      <td>...</td>\n",
              "      <td>...</td>\n",
              "      <td>...</td>\n",
              "      <td>...</td>\n",
              "      <td>...</td>\n",
              "      <td>...</td>\n",
              "      <td>...</td>\n",
              "      <td>...</td>\n",
              "      <td>...</td>\n",
              "      <td>...</td>\n",
              "      <td>...</td>\n",
              "      <td>...</td>\n",
              "      <td>...</td>\n",
              "      <td>...</td>\n",
              "      <td>...</td>\n",
              "    </tr>\n",
              "    <tr>\n",
              "      <th>2022-06-03 00:00:00</th>\n",
              "      <td>739.900024</td>\n",
              "      <td>2886.899902</td>\n",
              "      <td>677.299988</td>\n",
              "      <td>3672.699951</td>\n",
              "      <td>12691.599609</td>\n",
              "      <td>6028.200195</td>\n",
              "      <td>686.500000</td>\n",
              "      <td>328.149994</td>\n",
              "      <td>3530.000000</td>\n",
              "      <td>960.950012</td>\n",
              "      <td>...</td>\n",
              "      <td>865.099976</td>\n",
              "      <td>753.900024</td>\n",
              "      <td>431.899994</td>\n",
              "      <td>1067.300049</td>\n",
              "      <td>3440.149902</td>\n",
              "      <td>1147.900024</td>\n",
              "      <td>2204.399902</td>\n",
              "      <td>5678.850098</td>\n",
              "      <td>769.650024</td>\n",
              "      <td>475.500000</td>\n",
              "    </tr>\n",
              "    <tr>\n",
              "      <th>2022-06-06 00:00:00</th>\n",
              "      <td>741.250000</td>\n",
              "      <td>2817.449951</td>\n",
              "      <td>672.200012</td>\n",
              "      <td>3817.000000</td>\n",
              "      <td>12516.400391</td>\n",
              "      <td>6021.000000</td>\n",
              "      <td>682.950012</td>\n",
              "      <td>319.350006</td>\n",
              "      <td>3491.949951</td>\n",
              "      <td>976.049988</td>\n",
              "      <td>...</td>\n",
              "      <td>859.799988</td>\n",
              "      <td>763.650024</td>\n",
              "      <td>432.350006</td>\n",
              "      <td>1078.099976</td>\n",
              "      <td>3430.949951</td>\n",
              "      <td>1144.199951</td>\n",
              "      <td>2198.550049</td>\n",
              "      <td>5581.350098</td>\n",
              "      <td>779.000000</td>\n",
              "      <td>473.200012</td>\n",
              "    </tr>\n",
              "    <tr>\n",
              "      <th>2022-06-07 00:00:00</th>\n",
              "      <td>734.549988</td>\n",
              "      <td>2744.699951</td>\n",
              "      <td>665.849976</td>\n",
              "      <td>3834.100098</td>\n",
              "      <td>12338.700195</td>\n",
              "      <td>5878.600098</td>\n",
              "      <td>685.299988</td>\n",
              "      <td>320.250000</td>\n",
              "      <td>3383.449951</td>\n",
              "      <td>972.750000</td>\n",
              "      <td>...</td>\n",
              "      <td>848.250000</td>\n",
              "      <td>756.599976</td>\n",
              "      <td>435.850006</td>\n",
              "      <td>1068.500000</td>\n",
              "      <td>3362.699951</td>\n",
              "      <td>1130.300049</td>\n",
              "      <td>2100.800049</td>\n",
              "      <td>5555.200195</td>\n",
              "      <td>746.200012</td>\n",
              "      <td>467.649994</td>\n",
              "    </tr>\n",
              "    <tr>\n",
              "      <th>2022-06-08 00:00:00</th>\n",
              "      <td>728.599976</td>\n",
              "      <td>2705.199951</td>\n",
              "      <td>658.599976</td>\n",
              "      <td>3794.149902</td>\n",
              "      <td>12465.000000</td>\n",
              "      <td>5954.299805</td>\n",
              "      <td>663.299988</td>\n",
              "      <td>323.899994</td>\n",
              "      <td>3361.500000</td>\n",
              "      <td>962.950012</td>\n",
              "      <td>...</td>\n",
              "      <td>847.250000</td>\n",
              "      <td>757.150024</td>\n",
              "      <td>435.649994</td>\n",
              "      <td>1086.750000</td>\n",
              "      <td>3404.149902</td>\n",
              "      <td>1124.199951</td>\n",
              "      <td>2128.850098</td>\n",
              "      <td>5531.850098</td>\n",
              "      <td>735.150024</td>\n",
              "      <td>470.399994</td>\n",
              "    </tr>\n",
              "    <tr>\n",
              "      <th>returns_2020</th>\n",
              "      <td>27.651373</td>\n",
              "      <td>55.379620</td>\n",
              "      <td>-18.032895</td>\n",
              "      <td>15.306363</td>\n",
              "      <td>-6.251606</td>\n",
              "      <td>24.995498</td>\n",
              "      <td>12.367416</td>\n",
              "      <td>-17.553768</td>\n",
              "      <td>21.001775</td>\n",
              "      <td>73.617684</td>\n",
              "      <td>...</td>\n",
              "      <td>37.432522</td>\n",
              "      <td>83.776424</td>\n",
              "      <td>-5.109674</td>\n",
              "      <td>36.193371</td>\n",
              "      <td>35.221166</td>\n",
              "      <td>32.288761</td>\n",
              "      <td>36.642850</td>\n",
              "      <td>24.972263</td>\n",
              "      <td>-20.730130</td>\n",
              "      <td>56.185801</td>\n",
              "    </tr>\n",
              "  </tbody>\n",
              "</table>\n",
              "<p>607 rows × 50 columns</p>\n",
              "</div>\n",
              "      <button class=\"colab-df-convert\" onclick=\"convertToInteractive('df-7266592a-8e5f-4bf0-a012-dbf2b8bd627f')\"\n",
              "              title=\"Convert this dataframe to an interactive table.\"\n",
              "              style=\"display:none;\">\n",
              "        \n",
              "  <svg xmlns=\"http://www.w3.org/2000/svg\" height=\"24px\"viewBox=\"0 0 24 24\"\n",
              "       width=\"24px\">\n",
              "    <path d=\"M0 0h24v24H0V0z\" fill=\"none\"/>\n",
              "    <path d=\"M18.56 5.44l.94 2.06.94-2.06 2.06-.94-2.06-.94-.94-2.06-.94 2.06-2.06.94zm-11 1L8.5 8.5l.94-2.06 2.06-.94-2.06-.94L8.5 2.5l-.94 2.06-2.06.94zm10 10l.94 2.06.94-2.06 2.06-.94-2.06-.94-.94-2.06-.94 2.06-2.06.94z\"/><path d=\"M17.41 7.96l-1.37-1.37c-.4-.4-.92-.59-1.43-.59-.52 0-1.04.2-1.43.59L10.3 9.45l-7.72 7.72c-.78.78-.78 2.05 0 2.83L4 21.41c.39.39.9.59 1.41.59.51 0 1.02-.2 1.41-.59l7.78-7.78 2.81-2.81c.8-.78.8-2.07 0-2.86zM5.41 20L4 18.59l7.72-7.72 1.47 1.35L5.41 20z\"/>\n",
              "  </svg>\n",
              "      </button>\n",
              "      \n",
              "  <style>\n",
              "    .colab-df-container {\n",
              "      display:flex;\n",
              "      flex-wrap:wrap;\n",
              "      gap: 12px;\n",
              "    }\n",
              "\n",
              "    .colab-df-convert {\n",
              "      background-color: #E8F0FE;\n",
              "      border: none;\n",
              "      border-radius: 50%;\n",
              "      cursor: pointer;\n",
              "      display: none;\n",
              "      fill: #1967D2;\n",
              "      height: 32px;\n",
              "      padding: 0 0 0 0;\n",
              "      width: 32px;\n",
              "    }\n",
              "\n",
              "    .colab-df-convert:hover {\n",
              "      background-color: #E2EBFA;\n",
              "      box-shadow: 0px 1px 2px rgba(60, 64, 67, 0.3), 0px 1px 3px 1px rgba(60, 64, 67, 0.15);\n",
              "      fill: #174EA6;\n",
              "    }\n",
              "\n",
              "    [theme=dark] .colab-df-convert {\n",
              "      background-color: #3B4455;\n",
              "      fill: #D2E3FC;\n",
              "    }\n",
              "\n",
              "    [theme=dark] .colab-df-convert:hover {\n",
              "      background-color: #434B5C;\n",
              "      box-shadow: 0px 1px 3px 1px rgba(0, 0, 0, 0.15);\n",
              "      filter: drop-shadow(0px 1px 2px rgba(0, 0, 0, 0.3));\n",
              "      fill: #FFFFFF;\n",
              "    }\n",
              "  </style>\n",
              "\n",
              "      <script>\n",
              "        const buttonEl =\n",
              "          document.querySelector('#df-7266592a-8e5f-4bf0-a012-dbf2b8bd627f button.colab-df-convert');\n",
              "        buttonEl.style.display =\n",
              "          google.colab.kernel.accessAllowed ? 'block' : 'none';\n",
              "\n",
              "        async function convertToInteractive(key) {\n",
              "          const element = document.querySelector('#df-7266592a-8e5f-4bf0-a012-dbf2b8bd627f');\n",
              "          const dataTable =\n",
              "            await google.colab.kernel.invokeFunction('convertToInteractive',\n",
              "                                                     [key], {});\n",
              "          if (!dataTable) return;\n",
              "\n",
              "          const docLinkHtml = 'Like what you see? Visit the ' +\n",
              "            '<a target=\"_blank\" href=https://colab.research.google.com/notebooks/data_table.ipynb>data table notebook</a>'\n",
              "            + ' to learn more about interactive tables.';\n",
              "          element.innerHTML = '';\n",
              "          dataTable['output_type'] = 'display_data';\n",
              "          await google.colab.output.renderOutput(dataTable, element);\n",
              "          const docLink = document.createElement('div');\n",
              "          docLink.innerHTML = docLinkHtml;\n",
              "          element.appendChild(docLink);\n",
              "        }\n",
              "      </script>\n",
              "    </div>\n",
              "  </div>\n",
              "  "
            ]
          },
          "metadata": {},
          "execution_count": 42
        }
      ]
    },
    {
      "cell_type": "code",
      "source": [
        "stock_prices = stock_prices.transpose()\n",
        "stock_prices.head()"
      ],
      "metadata": {
        "colab": {
          "base_uri": "https://localhost:8080/",
          "height": 334
        },
        "id": "xbTyypqQeDFc",
        "outputId": "2ae3930b-a2a7-40c0-bf2b-0c9c6a1305a9"
      },
      "execution_count": null,
      "outputs": [
        {
          "output_type": "execute_result",
          "data": {
            "text/plain": [
              "Date        2020-01-01 00:00:00  2020-01-02 00:00:00  2020-01-03 00:00:00  \\\n",
              "ADANIPORTS           370.923370           376.325409           375.687012   \n",
              "ASIANPAINT          1770.856567          1768.338379          1729.577393   \n",
              "AXISBANK             748.700012           756.950012           742.950012   \n",
              "BAJAJ-AUTO          2913.946289          2887.027588          2841.747314   \n",
              "BAJFINANCE          9370.917969          9497.965820          9338.342773   \n",
              "\n",
              "Date        2020-01-06 00:00:00  2020-01-07 00:00:00  2020-01-08 00:00:00  \\\n",
              "ADANIPORTS           373.427948           377.946014           378.780884   \n",
              "ASIANPAINT          1685.878662          1702.913940          1707.259033   \n",
              "AXISBANK             723.250000           725.750000           724.500000   \n",
              "BAJAJ-AUTO          2809.926270          2810.203613          2829.906738   \n",
              "BAJFINANCE          9035.437500          9088.344727          9138.154297   \n",
              "\n",
              "Date        2020-01-09 00:00:00  2020-01-10 00:00:00  2020-01-13 00:00:00  \\\n",
              "ADANIPORTS           384.821320           385.066895           383.397186   \n",
              "ASIANPAINT          1750.463989          1770.214844          1782.410889   \n",
              "AXISBANK             742.849976           740.049988           737.400024   \n",
              "BAJAJ-AUTO          2854.373779          2868.711914          2862.097900   \n",
              "BAJFINANCE          9387.704102          9364.722656          9447.655273   \n",
              "\n",
              "Date        2020-01-14 00:00:00  ...  2022-05-27 00:00:00  \\\n",
              "ADANIPORTS           382.267670  ...           703.099976   \n",
              "ASIANPAINT          1796.483276  ...          2834.850098   \n",
              "AXISBANK             747.900024  ...           688.299988   \n",
              "BAJAJ-AUTO          2869.082031  ...          3833.050049   \n",
              "BAJFINANCE          9547.175781  ...         12758.400391   \n",
              "\n",
              "Date        2022-05-30 00:00:00  2022-05-31 00:00:00  2022-06-01 00:00:00  \\\n",
              "ADANIPORTS           734.700012           739.849976           736.900024   \n",
              "ASIANPAINT          2844.000000          2859.649902          2852.500000   \n",
              "AXISBANK             693.650024           685.200012           686.049988   \n",
              "BAJAJ-AUTO          3856.699951          3864.100098          3720.100098   \n",
              "BAJFINANCE         12924.049805         12934.000000         12596.599609   \n",
              "\n",
              "Date        2022-06-02 00:00:00  2022-06-03 00:00:00  2022-06-06 00:00:00  \\\n",
              "ADANIPORTS           748.450012           739.900024           741.250000   \n",
              "ASIANPAINT          2908.550049          2886.899902          2817.449951   \n",
              "AXISBANK             691.549988           677.299988           672.200012   \n",
              "BAJAJ-AUTO          3688.699951          3672.699951          3817.000000   \n",
              "BAJFINANCE         12936.000000         12691.599609         12516.400391   \n",
              "\n",
              "Date        2022-06-07 00:00:00  2022-06-08 00:00:00  returns_2020  \n",
              "ADANIPORTS           734.549988           728.599976     27.651373  \n",
              "ASIANPAINT          2744.699951          2705.199951     55.379620  \n",
              "AXISBANK             665.849976           658.599976    -18.032895  \n",
              "BAJAJ-AUTO          3834.100098          3794.149902     15.306363  \n",
              "BAJFINANCE         12338.700195         12465.000000     -6.251606  \n",
              "\n",
              "[5 rows x 607 columns]"
            ],
            "text/html": [
              "\n",
              "  <div id=\"df-714c5875-61f0-42d7-a59d-ef3b1ba8b7fa\">\n",
              "    <div class=\"colab-df-container\">\n",
              "      <div>\n",
              "<style scoped>\n",
              "    .dataframe tbody tr th:only-of-type {\n",
              "        vertical-align: middle;\n",
              "    }\n",
              "\n",
              "    .dataframe tbody tr th {\n",
              "        vertical-align: top;\n",
              "    }\n",
              "\n",
              "    .dataframe thead th {\n",
              "        text-align: right;\n",
              "    }\n",
              "</style>\n",
              "<table border=\"1\" class=\"dataframe\">\n",
              "  <thead>\n",
              "    <tr style=\"text-align: right;\">\n",
              "      <th>Date</th>\n",
              "      <th>2020-01-01 00:00:00</th>\n",
              "      <th>2020-01-02 00:00:00</th>\n",
              "      <th>2020-01-03 00:00:00</th>\n",
              "      <th>2020-01-06 00:00:00</th>\n",
              "      <th>2020-01-07 00:00:00</th>\n",
              "      <th>2020-01-08 00:00:00</th>\n",
              "      <th>2020-01-09 00:00:00</th>\n",
              "      <th>2020-01-10 00:00:00</th>\n",
              "      <th>2020-01-13 00:00:00</th>\n",
              "      <th>2020-01-14 00:00:00</th>\n",
              "      <th>...</th>\n",
              "      <th>2022-05-27 00:00:00</th>\n",
              "      <th>2022-05-30 00:00:00</th>\n",
              "      <th>2022-05-31 00:00:00</th>\n",
              "      <th>2022-06-01 00:00:00</th>\n",
              "      <th>2022-06-02 00:00:00</th>\n",
              "      <th>2022-06-03 00:00:00</th>\n",
              "      <th>2022-06-06 00:00:00</th>\n",
              "      <th>2022-06-07 00:00:00</th>\n",
              "      <th>2022-06-08 00:00:00</th>\n",
              "      <th>returns_2020</th>\n",
              "    </tr>\n",
              "  </thead>\n",
              "  <tbody>\n",
              "    <tr>\n",
              "      <th>ADANIPORTS</th>\n",
              "      <td>370.923370</td>\n",
              "      <td>376.325409</td>\n",
              "      <td>375.687012</td>\n",
              "      <td>373.427948</td>\n",
              "      <td>377.946014</td>\n",
              "      <td>378.780884</td>\n",
              "      <td>384.821320</td>\n",
              "      <td>385.066895</td>\n",
              "      <td>383.397186</td>\n",
              "      <td>382.267670</td>\n",
              "      <td>...</td>\n",
              "      <td>703.099976</td>\n",
              "      <td>734.700012</td>\n",
              "      <td>739.849976</td>\n",
              "      <td>736.900024</td>\n",
              "      <td>748.450012</td>\n",
              "      <td>739.900024</td>\n",
              "      <td>741.250000</td>\n",
              "      <td>734.549988</td>\n",
              "      <td>728.599976</td>\n",
              "      <td>27.651373</td>\n",
              "    </tr>\n",
              "    <tr>\n",
              "      <th>ASIANPAINT</th>\n",
              "      <td>1770.856567</td>\n",
              "      <td>1768.338379</td>\n",
              "      <td>1729.577393</td>\n",
              "      <td>1685.878662</td>\n",
              "      <td>1702.913940</td>\n",
              "      <td>1707.259033</td>\n",
              "      <td>1750.463989</td>\n",
              "      <td>1770.214844</td>\n",
              "      <td>1782.410889</td>\n",
              "      <td>1796.483276</td>\n",
              "      <td>...</td>\n",
              "      <td>2834.850098</td>\n",
              "      <td>2844.000000</td>\n",
              "      <td>2859.649902</td>\n",
              "      <td>2852.500000</td>\n",
              "      <td>2908.550049</td>\n",
              "      <td>2886.899902</td>\n",
              "      <td>2817.449951</td>\n",
              "      <td>2744.699951</td>\n",
              "      <td>2705.199951</td>\n",
              "      <td>55.379620</td>\n",
              "    </tr>\n",
              "    <tr>\n",
              "      <th>AXISBANK</th>\n",
              "      <td>748.700012</td>\n",
              "      <td>756.950012</td>\n",
              "      <td>742.950012</td>\n",
              "      <td>723.250000</td>\n",
              "      <td>725.750000</td>\n",
              "      <td>724.500000</td>\n",
              "      <td>742.849976</td>\n",
              "      <td>740.049988</td>\n",
              "      <td>737.400024</td>\n",
              "      <td>747.900024</td>\n",
              "      <td>...</td>\n",
              "      <td>688.299988</td>\n",
              "      <td>693.650024</td>\n",
              "      <td>685.200012</td>\n",
              "      <td>686.049988</td>\n",
              "      <td>691.549988</td>\n",
              "      <td>677.299988</td>\n",
              "      <td>672.200012</td>\n",
              "      <td>665.849976</td>\n",
              "      <td>658.599976</td>\n",
              "      <td>-18.032895</td>\n",
              "    </tr>\n",
              "    <tr>\n",
              "      <th>BAJAJ-AUTO</th>\n",
              "      <td>2913.946289</td>\n",
              "      <td>2887.027588</td>\n",
              "      <td>2841.747314</td>\n",
              "      <td>2809.926270</td>\n",
              "      <td>2810.203613</td>\n",
              "      <td>2829.906738</td>\n",
              "      <td>2854.373779</td>\n",
              "      <td>2868.711914</td>\n",
              "      <td>2862.097900</td>\n",
              "      <td>2869.082031</td>\n",
              "      <td>...</td>\n",
              "      <td>3833.050049</td>\n",
              "      <td>3856.699951</td>\n",
              "      <td>3864.100098</td>\n",
              "      <td>3720.100098</td>\n",
              "      <td>3688.699951</td>\n",
              "      <td>3672.699951</td>\n",
              "      <td>3817.000000</td>\n",
              "      <td>3834.100098</td>\n",
              "      <td>3794.149902</td>\n",
              "      <td>15.306363</td>\n",
              "    </tr>\n",
              "    <tr>\n",
              "      <th>BAJFINANCE</th>\n",
              "      <td>9370.917969</td>\n",
              "      <td>9497.965820</td>\n",
              "      <td>9338.342773</td>\n",
              "      <td>9035.437500</td>\n",
              "      <td>9088.344727</td>\n",
              "      <td>9138.154297</td>\n",
              "      <td>9387.704102</td>\n",
              "      <td>9364.722656</td>\n",
              "      <td>9447.655273</td>\n",
              "      <td>9547.175781</td>\n",
              "      <td>...</td>\n",
              "      <td>12758.400391</td>\n",
              "      <td>12924.049805</td>\n",
              "      <td>12934.000000</td>\n",
              "      <td>12596.599609</td>\n",
              "      <td>12936.000000</td>\n",
              "      <td>12691.599609</td>\n",
              "      <td>12516.400391</td>\n",
              "      <td>12338.700195</td>\n",
              "      <td>12465.000000</td>\n",
              "      <td>-6.251606</td>\n",
              "    </tr>\n",
              "  </tbody>\n",
              "</table>\n",
              "<p>5 rows × 607 columns</p>\n",
              "</div>\n",
              "      <button class=\"colab-df-convert\" onclick=\"convertToInteractive('df-714c5875-61f0-42d7-a59d-ef3b1ba8b7fa')\"\n",
              "              title=\"Convert this dataframe to an interactive table.\"\n",
              "              style=\"display:none;\">\n",
              "        \n",
              "  <svg xmlns=\"http://www.w3.org/2000/svg\" height=\"24px\"viewBox=\"0 0 24 24\"\n",
              "       width=\"24px\">\n",
              "    <path d=\"M0 0h24v24H0V0z\" fill=\"none\"/>\n",
              "    <path d=\"M18.56 5.44l.94 2.06.94-2.06 2.06-.94-2.06-.94-.94-2.06-.94 2.06-2.06.94zm-11 1L8.5 8.5l.94-2.06 2.06-.94-2.06-.94L8.5 2.5l-.94 2.06-2.06.94zm10 10l.94 2.06.94-2.06 2.06-.94-2.06-.94-.94-2.06-.94 2.06-2.06.94z\"/><path d=\"M17.41 7.96l-1.37-1.37c-.4-.4-.92-.59-1.43-.59-.52 0-1.04.2-1.43.59L10.3 9.45l-7.72 7.72c-.78.78-.78 2.05 0 2.83L4 21.41c.39.39.9.59 1.41.59.51 0 1.02-.2 1.41-.59l7.78-7.78 2.81-2.81c.8-.78.8-2.07 0-2.86zM5.41 20L4 18.59l7.72-7.72 1.47 1.35L5.41 20z\"/>\n",
              "  </svg>\n",
              "      </button>\n",
              "      \n",
              "  <style>\n",
              "    .colab-df-container {\n",
              "      display:flex;\n",
              "      flex-wrap:wrap;\n",
              "      gap: 12px;\n",
              "    }\n",
              "\n",
              "    .colab-df-convert {\n",
              "      background-color: #E8F0FE;\n",
              "      border: none;\n",
              "      border-radius: 50%;\n",
              "      cursor: pointer;\n",
              "      display: none;\n",
              "      fill: #1967D2;\n",
              "      height: 32px;\n",
              "      padding: 0 0 0 0;\n",
              "      width: 32px;\n",
              "    }\n",
              "\n",
              "    .colab-df-convert:hover {\n",
              "      background-color: #E2EBFA;\n",
              "      box-shadow: 0px 1px 2px rgba(60, 64, 67, 0.3), 0px 1px 3px 1px rgba(60, 64, 67, 0.15);\n",
              "      fill: #174EA6;\n",
              "    }\n",
              "\n",
              "    [theme=dark] .colab-df-convert {\n",
              "      background-color: #3B4455;\n",
              "      fill: #D2E3FC;\n",
              "    }\n",
              "\n",
              "    [theme=dark] .colab-df-convert:hover {\n",
              "      background-color: #434B5C;\n",
              "      box-shadow: 0px 1px 3px 1px rgba(0, 0, 0, 0.15);\n",
              "      filter: drop-shadow(0px 1px 2px rgba(0, 0, 0, 0.3));\n",
              "      fill: #FFFFFF;\n",
              "    }\n",
              "  </style>\n",
              "\n",
              "      <script>\n",
              "        const buttonEl =\n",
              "          document.querySelector('#df-714c5875-61f0-42d7-a59d-ef3b1ba8b7fa button.colab-df-convert');\n",
              "        buttonEl.style.display =\n",
              "          google.colab.kernel.accessAllowed ? 'block' : 'none';\n",
              "\n",
              "        async function convertToInteractive(key) {\n",
              "          const element = document.querySelector('#df-714c5875-61f0-42d7-a59d-ef3b1ba8b7fa');\n",
              "          const dataTable =\n",
              "            await google.colab.kernel.invokeFunction('convertToInteractive',\n",
              "                                                     [key], {});\n",
              "          if (!dataTable) return;\n",
              "\n",
              "          const docLinkHtml = 'Like what you see? Visit the ' +\n",
              "            '<a target=\"_blank\" href=https://colab.research.google.com/notebooks/data_table.ipynb>data table notebook</a>'\n",
              "            + ' to learn more about interactive tables.';\n",
              "          element.innerHTML = '';\n",
              "          dataTable['output_type'] = 'display_data';\n",
              "          await google.colab.output.renderOutput(dataTable, element);\n",
              "          const docLink = document.createElement('div');\n",
              "          docLink.innerHTML = docLinkHtml;\n",
              "          element.appendChild(docLink);\n",
              "        }\n",
              "      </script>\n",
              "    </div>\n",
              "  </div>\n",
              "  "
            ]
          },
          "metadata": {},
          "execution_count": 44
        }
      ]
    },
    {
      "cell_type": "code",
      "source": [
        "prices = stock_prices.iloc[:, -1]\n",
        "df.index = stock_prices.index\n",
        "df['return_2020'] = prices\n",
        "df.head()"
      ],
      "metadata": {
        "colab": {
          "base_uri": "https://localhost:8080/",
          "height": 270
        },
        "id": "UUgytmz7d7cz",
        "outputId": "a89ce35d-cbf0-450b-ef11-bf2392e1af44"
      },
      "execution_count": null,
      "outputs": [
        {
          "output_type": "execute_result",
          "data": {
            "text/plain": [
              "                marketCap  regularMarketVolume  earningsQuarterlyGrowth  \\\n",
              "ADANIPORTS  1539072720896              2839851                   -0.205   \n",
              "ASIANPAINT  2596018061312              1742929                   -0.002   \n",
              "AXISBANK    2041133006848              9280420                    0.502   \n",
              "BAJAJ-AUTO  1097901801472               346513                   -0.016   \n",
              "BAJFINANCE  3702931324928              1334050                    0.797   \n",
              "\n",
              "            bookValue  totalRevenue  returnOnAssets  profitMargins  \\\n",
              "ADANIPORTS    181.165  1.593403e+11         0.05149        0.29673   \n",
              "ASIANPAINT    143.991  2.898187e+11         0.11496        0.10457   \n",
              "AXISBANK      385.482  4.375369e+11         0.01288        0.32270   \n",
              "BAJAJ-AUTO   1033.043  3.435395e+11         0.11259        0.17948   \n",
              "BAJFINANCE    724.657  1.708877e+11         0.03660        0.41128   \n",
              "\n",
              "            earningsGrowth  return_2020  \n",
              "ADANIPORTS          -0.235    27.651373  \n",
              "ASIANPAINT          -0.002    55.379620  \n",
              "AXISBANK             0.498   -18.032895  \n",
              "BAJAJ-AUTO          -0.015    15.306363  \n",
              "BAJFINANCE           0.793    -6.251606  "
            ],
            "text/html": [
              "\n",
              "  <div id=\"df-016e22e2-6627-4730-92d9-1246ba969013\">\n",
              "    <div class=\"colab-df-container\">\n",
              "      <div>\n",
              "<style scoped>\n",
              "    .dataframe tbody tr th:only-of-type {\n",
              "        vertical-align: middle;\n",
              "    }\n",
              "\n",
              "    .dataframe tbody tr th {\n",
              "        vertical-align: top;\n",
              "    }\n",
              "\n",
              "    .dataframe thead th {\n",
              "        text-align: right;\n",
              "    }\n",
              "</style>\n",
              "<table border=\"1\" class=\"dataframe\">\n",
              "  <thead>\n",
              "    <tr style=\"text-align: right;\">\n",
              "      <th></th>\n",
              "      <th>marketCap</th>\n",
              "      <th>regularMarketVolume</th>\n",
              "      <th>earningsQuarterlyGrowth</th>\n",
              "      <th>bookValue</th>\n",
              "      <th>totalRevenue</th>\n",
              "      <th>returnOnAssets</th>\n",
              "      <th>profitMargins</th>\n",
              "      <th>earningsGrowth</th>\n",
              "      <th>return_2020</th>\n",
              "    </tr>\n",
              "  </thead>\n",
              "  <tbody>\n",
              "    <tr>\n",
              "      <th>ADANIPORTS</th>\n",
              "      <td>1539072720896</td>\n",
              "      <td>2839851</td>\n",
              "      <td>-0.205</td>\n",
              "      <td>181.165</td>\n",
              "      <td>1.593403e+11</td>\n",
              "      <td>0.05149</td>\n",
              "      <td>0.29673</td>\n",
              "      <td>-0.235</td>\n",
              "      <td>27.651373</td>\n",
              "    </tr>\n",
              "    <tr>\n",
              "      <th>ASIANPAINT</th>\n",
              "      <td>2596018061312</td>\n",
              "      <td>1742929</td>\n",
              "      <td>-0.002</td>\n",
              "      <td>143.991</td>\n",
              "      <td>2.898187e+11</td>\n",
              "      <td>0.11496</td>\n",
              "      <td>0.10457</td>\n",
              "      <td>-0.002</td>\n",
              "      <td>55.379620</td>\n",
              "    </tr>\n",
              "    <tr>\n",
              "      <th>AXISBANK</th>\n",
              "      <td>2041133006848</td>\n",
              "      <td>9280420</td>\n",
              "      <td>0.502</td>\n",
              "      <td>385.482</td>\n",
              "      <td>4.375369e+11</td>\n",
              "      <td>0.01288</td>\n",
              "      <td>0.32270</td>\n",
              "      <td>0.498</td>\n",
              "      <td>-18.032895</td>\n",
              "    </tr>\n",
              "    <tr>\n",
              "      <th>BAJAJ-AUTO</th>\n",
              "      <td>1097901801472</td>\n",
              "      <td>346513</td>\n",
              "      <td>-0.016</td>\n",
              "      <td>1033.043</td>\n",
              "      <td>3.435395e+11</td>\n",
              "      <td>0.11259</td>\n",
              "      <td>0.17948</td>\n",
              "      <td>-0.015</td>\n",
              "      <td>15.306363</td>\n",
              "    </tr>\n",
              "    <tr>\n",
              "      <th>BAJFINANCE</th>\n",
              "      <td>3702931324928</td>\n",
              "      <td>1334050</td>\n",
              "      <td>0.797</td>\n",
              "      <td>724.657</td>\n",
              "      <td>1.708877e+11</td>\n",
              "      <td>0.03660</td>\n",
              "      <td>0.41128</td>\n",
              "      <td>0.793</td>\n",
              "      <td>-6.251606</td>\n",
              "    </tr>\n",
              "  </tbody>\n",
              "</table>\n",
              "</div>\n",
              "      <button class=\"colab-df-convert\" onclick=\"convertToInteractive('df-016e22e2-6627-4730-92d9-1246ba969013')\"\n",
              "              title=\"Convert this dataframe to an interactive table.\"\n",
              "              style=\"display:none;\">\n",
              "        \n",
              "  <svg xmlns=\"http://www.w3.org/2000/svg\" height=\"24px\"viewBox=\"0 0 24 24\"\n",
              "       width=\"24px\">\n",
              "    <path d=\"M0 0h24v24H0V0z\" fill=\"none\"/>\n",
              "    <path d=\"M18.56 5.44l.94 2.06.94-2.06 2.06-.94-2.06-.94-.94-2.06-.94 2.06-2.06.94zm-11 1L8.5 8.5l.94-2.06 2.06-.94-2.06-.94L8.5 2.5l-.94 2.06-2.06.94zm10 10l.94 2.06.94-2.06 2.06-.94-2.06-.94-.94-2.06-.94 2.06-2.06.94z\"/><path d=\"M17.41 7.96l-1.37-1.37c-.4-.4-.92-.59-1.43-.59-.52 0-1.04.2-1.43.59L10.3 9.45l-7.72 7.72c-.78.78-.78 2.05 0 2.83L4 21.41c.39.39.9.59 1.41.59.51 0 1.02-.2 1.41-.59l7.78-7.78 2.81-2.81c.8-.78.8-2.07 0-2.86zM5.41 20L4 18.59l7.72-7.72 1.47 1.35L5.41 20z\"/>\n",
              "  </svg>\n",
              "      </button>\n",
              "      \n",
              "  <style>\n",
              "    .colab-df-container {\n",
              "      display:flex;\n",
              "      flex-wrap:wrap;\n",
              "      gap: 12px;\n",
              "    }\n",
              "\n",
              "    .colab-df-convert {\n",
              "      background-color: #E8F0FE;\n",
              "      border: none;\n",
              "      border-radius: 50%;\n",
              "      cursor: pointer;\n",
              "      display: none;\n",
              "      fill: #1967D2;\n",
              "      height: 32px;\n",
              "      padding: 0 0 0 0;\n",
              "      width: 32px;\n",
              "    }\n",
              "\n",
              "    .colab-df-convert:hover {\n",
              "      background-color: #E2EBFA;\n",
              "      box-shadow: 0px 1px 2px rgba(60, 64, 67, 0.3), 0px 1px 3px 1px rgba(60, 64, 67, 0.15);\n",
              "      fill: #174EA6;\n",
              "    }\n",
              "\n",
              "    [theme=dark] .colab-df-convert {\n",
              "      background-color: #3B4455;\n",
              "      fill: #D2E3FC;\n",
              "    }\n",
              "\n",
              "    [theme=dark] .colab-df-convert:hover {\n",
              "      background-color: #434B5C;\n",
              "      box-shadow: 0px 1px 3px 1px rgba(0, 0, 0, 0.15);\n",
              "      filter: drop-shadow(0px 1px 2px rgba(0, 0, 0, 0.3));\n",
              "      fill: #FFFFFF;\n",
              "    }\n",
              "  </style>\n",
              "\n",
              "      <script>\n",
              "        const buttonEl =\n",
              "          document.querySelector('#df-016e22e2-6627-4730-92d9-1246ba969013 button.colab-df-convert');\n",
              "        buttonEl.style.display =\n",
              "          google.colab.kernel.accessAllowed ? 'block' : 'none';\n",
              "\n",
              "        async function convertToInteractive(key) {\n",
              "          const element = document.querySelector('#df-016e22e2-6627-4730-92d9-1246ba969013');\n",
              "          const dataTable =\n",
              "            await google.colab.kernel.invokeFunction('convertToInteractive',\n",
              "                                                     [key], {});\n",
              "          if (!dataTable) return;\n",
              "\n",
              "          const docLinkHtml = 'Like what you see? Visit the ' +\n",
              "            '<a target=\"_blank\" href=https://colab.research.google.com/notebooks/data_table.ipynb>data table notebook</a>'\n",
              "            + ' to learn more about interactive tables.';\n",
              "          element.innerHTML = '';\n",
              "          dataTable['output_type'] = 'display_data';\n",
              "          await google.colab.output.renderOutput(dataTable, element);\n",
              "          const docLink = document.createElement('div');\n",
              "          docLink.innerHTML = docLinkHtml;\n",
              "          element.appendChild(docLink);\n",
              "        }\n",
              "      </script>\n",
              "    </div>\n",
              "  </div>\n",
              "  "
            ]
          },
          "metadata": {},
          "execution_count": 45
        }
      ]
    },
    {
      "cell_type": "code",
      "source": [
        "# drop null values\n",
        "df.isna().sum()"
      ],
      "metadata": {
        "colab": {
          "base_uri": "https://localhost:8080/"
        },
        "id": "DmFBTokieJxR",
        "outputId": "fee78582-3395-435b-dbbb-c1e3157a8864"
      },
      "execution_count": null,
      "outputs": [
        {
          "output_type": "execute_result",
          "data": {
            "text/plain": [
              "marketCap                   0\n",
              "regularMarketVolume         0\n",
              "earningsQuarterlyGrowth     2\n",
              "bookValue                   1\n",
              "totalRevenue                1\n",
              "returnOnAssets             28\n",
              "profitMargins               0\n",
              "earningsGrowth              2\n",
              "return_2020                 0\n",
              "dtype: int64"
            ]
          },
          "metadata": {},
          "execution_count": 47
        }
      ]
    },
    {
      "cell_type": "code",
      "source": [
        "df['returnOnAssets'] = df['returnOnAssets'].replace(np.nan, 0)"
      ],
      "metadata": {
        "id": "6ewbwpskeeUx"
      },
      "execution_count": null,
      "outputs": []
    },
    {
      "cell_type": "code",
      "source": [
        "df.isna().sum()"
      ],
      "metadata": {
        "colab": {
          "base_uri": "https://localhost:8080/"
        },
        "id": "CFZMpX9NemsC",
        "outputId": "2932ee18-ec92-4701-8425-9f594d515497"
      },
      "execution_count": null,
      "outputs": [
        {
          "output_type": "execute_result",
          "data": {
            "text/plain": [
              "marketCap                  0\n",
              "regularMarketVolume        0\n",
              "earningsQuarterlyGrowth    2\n",
              "bookValue                  1\n",
              "totalRevenue               1\n",
              "returnOnAssets             0\n",
              "profitMargins              0\n",
              "earningsGrowth             2\n",
              "return_2020                0\n",
              "dtype: int64"
            ]
          },
          "metadata": {},
          "execution_count": 49
        }
      ]
    },
    {
      "cell_type": "code",
      "source": [
        "df.dropna(axis=0, inplace=True)\n",
        "df.shape"
      ],
      "metadata": {
        "colab": {
          "base_uri": "https://localhost:8080/"
        },
        "id": "9B_1Nox3eN2H",
        "outputId": "55cd6a01-f657-4839-fc86-d856806a39de"
      },
      "execution_count": null,
      "outputs": [
        {
          "output_type": "execute_result",
          "data": {
            "text/plain": [
              "(47, 9)"
            ]
          },
          "metadata": {},
          "execution_count": 50
        }
      ]
    },
    {
      "cell_type": "markdown",
      "source": [
        "## Hiearchical Clustering"
      ],
      "metadata": {
        "id": "xqTfoYsUe3v5"
      }
    },
    {
      "cell_type": "code",
      "source": [
        "from sklearn.preprocessing import StandardScaler\n",
        "\n",
        "scaler = StandardScaler()\n",
        "scaler.fit(df)\n",
        "X = scaler.transform(df)"
      ],
      "metadata": {
        "id": "ePGmlW_eevXV"
      },
      "execution_count": null,
      "outputs": []
    },
    {
      "cell_type": "code",
      "source": [
        "scaled_df = pd.DataFrame(X, columns=df.columns, index=df.index)\n"
      ],
      "metadata": {
        "id": "tckFM0jfe25p"
      },
      "execution_count": null,
      "outputs": []
    },
    {
      "cell_type": "code",
      "source": [
        "# import hierarchical clustering libraries\n",
        "import scipy.cluster.hierarchy as sch\n",
        "\n",
        "# Refer https://docs.scipy.org/doc/scipy/reference/generated/scipy.cluster.hierarchy.linkage.html#scipy.cluster.hierarchy.linkage\n",
        "Z = sch.linkage(scaled_df, method='ward') #linkage = ward\n"
      ],
      "metadata": {
        "id": "ON7loHFxfQIZ"
      },
      "execution_count": null,
      "outputs": []
    },
    {
      "cell_type": "code",
      "source": [
        "Z.shape"
      ],
      "metadata": {
        "colab": {
          "base_uri": "https://localhost:8080/"
        },
        "id": "J7RDV4XSfT8K",
        "outputId": "fdffbf1d-207a-4de7-80a6-c7f2727b6cc9"
      },
      "execution_count": null,
      "outputs": [
        {
          "output_type": "execute_result",
          "data": {
            "text/plain": [
              "(46, 4)"
            ]
          },
          "metadata": {},
          "execution_count": 54
        }
      ]
    },
    {
      "cell_type": "code",
      "source": [
        "fig, ax = plt.subplots(figsize=(14, 8))\n",
        "sch.dendrogram(Z, labels=scaled_df.index, ax=ax, color_threshold=2)\n",
        "plt.xticks(rotation=90)\n",
        "ax.set_ylabel('distance')"
      ],
      "metadata": {
        "colab": {
          "base_uri": "https://localhost:8080/",
          "height": 549
        },
        "id": "3xakIJolf13Y",
        "outputId": "23385a45-f798-4c4d-b05f-65fb2e661808"
      },
      "execution_count": null,
      "outputs": [
        {
          "output_type": "execute_result",
          "data": {
            "text/plain": [
              "Text(0, 0.5, 'distance')"
            ]
          },
          "metadata": {},
          "execution_count": 56
        },
        {
          "output_type": "display_data",
          "data": {
            "text/plain": [
              "<Figure size 1008x576 with 1 Axes>"
            ],
            "image/png": "[encoded data removed]"
          },
          "metadata": {
            "needs_background": "light"
          }
        }
      ]
    },
    {
      "cell_type": "code",
      "source": [
        "# import hierarchical clustering libraries\n",
        "from sklearn.cluster import AgglomerativeClustering\n",
        "\n",
        "\n",
        "# create clusters\n",
        "hc_2020 = AgglomerativeClustering(n_clusters=5, affinity = 'euclidean', linkage = 'ward')\n",
        "\n",
        "y_pred = hc_2020.fit_predict(scaled_df)"
      ],
      "metadata": {
        "id": "02pEoLE8gIGi"
      },
      "execution_count": null,
      "outputs": []
    },
    {
      "cell_type": "code",
      "source": [
        "#Plot a line graph to see the characteristics of the clusters\n",
        "scaled_df['label'] = pd.Series(y_pred, index=scaled_df.index)\n",
        "\n",
        "clustered_df = scaled_df.groupby('label').mean()\n",
        "\n",
        "labels = ['Cluster 1', 'Cluster 2', 'Cluster 3', 'Cluster 4', 'Cluster 5']\n",
        "\n",
        "plt.figure(figsize=(14,8))\n",
        "plt.plot(clustered_df.T, label=labels)\n",
        "plt.xticks(rotation=90)\n",
        "plt.legend(labels)"
      ],
      "metadata": {
        "colab": {
          "base_uri": "https://localhost:8080/",
          "height": 617
        },
        "id": "GoV2pdr8gM-I",
        "outputId": "9ee73c78-5db6-41e2-9cea-7fcbc6f53a6e"
      },
      "execution_count": null,
      "outputs": [
        {
          "output_type": "execute_result",
          "data": {
            "text/plain": [
              "<matplotlib.legend.Legend at 0x7f36d94d4490>"
            ]
          },
          "metadata": {},
          "execution_count": 58
        },
        {
          "output_type": "display_data",
          "data": {
            "text/plain": [
              "<Figure size 1008x576 with 1 Axes>"
            ],
            "image/png": "[encoded data removed]"
          },
          "metadata": {
            "needs_background": "light"
          }
        }
      ]
    },
    {
      "cell_type": "code",
      "source": [],
      "metadata": {
        "id": "IWTFZS1MgYVD"
      },
      "execution_count": null,
      "outputs": []
    }
  ]
}